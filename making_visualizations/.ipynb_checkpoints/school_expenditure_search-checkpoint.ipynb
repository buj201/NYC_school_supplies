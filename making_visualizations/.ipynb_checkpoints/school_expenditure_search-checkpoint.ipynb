{
 "cells": [
  {
   "cell_type": "markdown",
   "metadata": {},
   "source": [
    "# Building a school expenditure dashboard using widgets\n",
    "\n",
    "In this notebook, we build a school expenditure dashboard using ipywidgets."
   ]
  },
  {
   "cell_type": "code",
   "execution_count": 806,
   "metadata": {
    "collapsed": false
   },
   "outputs": [],
   "source": [
    "import pandas as pd\n",
    "import numpy as np\n",
    "import matplotlib.pyplot as plt\n",
    "from ipywidgets import widgets, interactive\n",
    "import re\n",
    "from IPython.display import display, clear_output\n",
    "%matplotlib inline"
   ]
  },
  {
   "cell_type": "code",
   "execution_count": 807,
   "metadata": {
    "collapsed": false
   },
   "outputs": [],
   "source": [
    "all_years_data={}\n",
    "for year in range(2006, 2013):\n",
    "    all_years_data[year] = pd.read_csv('../../data/merged_data/expenditure_demo_account_year_{}.csv'.format(year), index_col=0)"
   ]
  },
  {
   "cell_type": "markdown",
   "metadata": {},
   "source": [
    "Now that we've read in the data, we implement our UI for searching."
   ]
  },
  {
   "cell_type": "code",
   "execution_count": 808,
   "metadata": {
    "collapsed": false
   },
   "outputs": [],
   "source": [
    "def search_function(Search):\n",
    "    \n",
    "    Search = Search.value\n",
    "    \n",
    "    ## Get school_names\n",
    "    unique_schools = []\n",
    "    for year in all_years_data:\n",
    "        all_years_data[year].Name = all_years_data[year].Name.map(lambda x: str(x).strip()) #strip whitespace\n",
    "        all_years_data[year].Name = all_years_data[year].Name.map(lambda x: re.sub('[^a-zA-Z0-9\\s]','',x)) #strip non alphanumeric characters\n",
    "        all_years_data[year].Name = all_years_data[year].Name.map(lambda x: str(x).upper()) #make uppercase\n",
    "        unique_schools.extend(list(all_years_data[year].Name))\n",
    "    unique_schools = list(set(unique_schools))\n",
    "    \n",
    "    ## Search through school names\n",
    "    upper_school = re.sub('[^0-9a-zA-Z\\s]', '', Search).upper()\n",
    "    matches = [re.search(upper_school, name) for name in unique_schools]\n",
    "    matching_schools = [i.string for i in matches if i != None]\n",
    "    if len(matching_schools)<20:\n",
    "        return matching_schools\n",
    "    else:\n",
    "        print '{} results found- here are 20 results. Re-search using more specific search terms.'.format(len(matching_schools))\n",
    "        return matching_schools[0:30]\n",
    "\n",
    "def plot_school(school):\n",
    "    fig = plt.figure(figsize=(16,12))\n",
    "    total_per_student = {}\n",
    "    mean_by_T1_status = {}\n",
    "    title_1 = {'Title 1':[],'non-Title 1':[]}\n",
    "    for year in all_years_data:\n",
    "        \n",
    "        #Get group mean for comparison\n",
    "        if all_years_data[year].loc[all_years_data[year]['Name'] == school,'Title_1'].isin([1]).values:\n",
    "            title_1['Title 1'].append(year)\n",
    "            mean_by_T1_status[year] = all_years_data[year].loc[all_years_data[year]['Title_1'] == 1,'Total'].mean()\n",
    "        elif all_years_data[year].loc[all_years_data[year]['Name'] == school,'Title_1'].isin([0]).values:\n",
    "            title_1['non-Title 1'].append(year)\n",
    "            mean_by_T1_status[year] = all_years_data[year].loc[all_years_data[year]['Title_1'] == 0,'Total'].mean()\n",
    "        \n",
    "        #If school exists, get data for year\n",
    "        if len(all_years_data[year].loc[all_years_data[year]['Name'] == school,'Total'])>0:\n",
    "            total_per_student[year] = all_years_data[year].loc[all_years_data[year]['Name'] == school,'Total']\n",
    "    \n",
    "    mean_by_T1_status = pd.DataFrame.from_dict(mean_by_T1_status, orient='index')\n",
    "    mean_by_T1_status.sort(inplace=True)\n",
    "    total_per_student = pd.DataFrame.from_dict(total_per_student, orient='index')\n",
    "    total_per_student.sort(inplace=True)\n",
    "    \n",
    "    \n",
    "    ##Ax one- total expenditure comparison\n",
    "    ax1 = plt.subplot(3,1,1)\n",
    "    ax1.plot(total_per_student.index, total_per_student.values, marker='s', markersize=10, label='Expenditures per student at {}'.format(school.title()))\n",
    "    \n",
    "    #Make label for comparison plot:\n",
    "    if len(title_1['Title 1']) == 0:\n",
    "        comparison_label = 'Average expenditures across all non-Title 1 schools citywide'\n",
    "    elif len(title_1['non-Title 1']) == 0:\n",
    "        comparison_label = 'Average expenditures across all Title 1 schools citywide'\n",
    "    else: ##Need to specify years for comparison\n",
    "        comparison_label = 'Average expenditures across Title 1 schools (years {})\\nand non-Title 1 schools (years {})'.format(str(title_1['Title 1']).strip('[]'),str(title_1['non-Title 1']).strip('[]'))\n",
    "    \n",
    "    ax1.plot(mean_by_T1_status.index, mean_by_T1_status.values, marker='o', markersize=10, label=comparison_label)\n",
    "    title = 'Total expenditures per student by year'\n",
    "    ax1.set_title(title)\n",
    "    ax1.set_xlabel('Year')\n",
    "    ax1.set_ylabel('Total expenditures per student ($)')\n",
    "    ax1.set_xlim((2006,2012))\n",
    "    min_val = min(mean_by_T1_status.values.min(), total_per_student.values.min())-2000\n",
    "    max_val = max(mean_by_T1_status.values.max(), total_per_student.values.max())+1000\n",
    "    ax1.set_ylim((min_val,max_val))\n",
    "    ax1.ticklabel_format(useOffset=False)\n",
    "    ax1.legend(loc='lower center', fancybox=True, shadow=True, ncol=2, fontsize='medium')\n",
    "    \n",
    "    DBN = []\n",
    "    for year in all_years_data:\n",
    "        DBN.extend(all_years_data[year].loc[all_years_data[year]['Name'] == school,'School'])\n",
    "    if len(list(set(DBN))):\n",
    "        make_all_subs(list(set(DBN))[0])\n",
    "    else:\n",
    "        make_all_subs(pd.Series(make_all_subs).value_counts().idxmax())\n",
    "    plt.show()\n",
    "    return \n",
    "\n",
    "def update_dropdown(search):\n",
    "    global container\n",
    "    clear_output()\n",
    "    schools = search_function(search)\n",
    "    if len(schools)>1:\n",
    "        plot_school(schools[0])\n",
    "        select_from = interactive(plot_school, school=widgets.Dropdown(options = schools, description = 'Select school to plot: '))\n",
    "        container.children=[Search,select_from]\n",
    "    if len(schools)==1:\n",
    "        plot_school(schools[0])\n",
    "        select_from = interactive(plot_school, school=widgets.Dropdown(options = schools, description = 'Select school to plot: '))\n",
    "        container.children=[Search,select_from]\n",
    "    if len(schools)==0:\n",
    "        print '{} not found- please search for a different school'.format(Search.value)\n",
    "        select_from = interactive(plot_school, school=widgets.Dropdown(options = schools, description = 'Select school to plot: '))\n",
    "        container.children=[Search,select_from]"
   ]
  },
  {
   "cell_type": "code",
   "execution_count": 818,
   "metadata": {
    "collapsed": false
   },
   "outputs": [],
   "source": [
    "import matplotlib.patches as mpatches\n",
    "\n",
    "def make_pie_plot(year, DBN):\n",
    "    plt.gcf()\n",
    "    matches = [re.search(r'_All_Funds', x) for x in list(all_years_data[year].columns)]\n",
    "    matches = [x for x in matches if x is not None]\n",
    "    matches = [x.string for x in matches]\n",
    "\n",
    "    matches_keys = [' '.join(re.findall('[A-Z][^A-Z]*', x)) for x in matches]\n",
    "    matches_keys = [re.sub('_',' ', x) for x in matches_keys]\n",
    "    matches_keys = [re.sub('  ', ' ', x) for x in matches_keys]\n",
    "    matches_keys = [re.sub('Srcs', 'Services', x) for x in matches_keys]\n",
    "    matches_keys = [re.sub(' All Funds', '', x) for x in matches_keys]\n",
    "    \n",
    "    map_cols_to_keys = dict(zip(matches, matches_keys))\n",
    "    \n",
    "    target_school = all_years_data[year].loc[DBN, matches]\n",
    "    target_school.index = [map_cols_to_keys[x] for x in target_school.index]\n",
    "    target_school.sort(inplace=True, ascending=False)\n",
    "    target_school.name = ''\n",
    "    \n",
    "    possible_categories = ['Ancillary Support Services', 'Building Services',\n",
    "                           'Central Administration', 'Central Instructional Support',\n",
    "                           'Classroom Instruction', 'Field Support',\n",
    "                           'Instructional Support Services', 'Instructional Support and Administration',\n",
    "                           'Leadership Supervision Support', 'Other Field Support Costs',\n",
    "                           'Referral and Evaluation Services', 'Other']\n",
    "    color_scale = [plt.get_cmap('Set1')(i) for i in np.linspace(0, 0.6, len(possible_categories))]\n",
    "    map_keys_to_colors = dict(zip(possible_categories,color_scale))\n",
    "    \n",
    "    non_negligible = (target_school/target_school.sum())[(target_school/target_school.sum())>0.025]\n",
    "    non_negligible['Other'] = 1.0-non_negligible.sum()\n",
    "    \n",
    "    colors=[map_keys_to_colors[x] for x in non_negligible.index]\n",
    "    \n",
    "    handles = [mpatches.Patch(color=map_keys_to_colors[x], label=str(x)) for x in non_negligible.index]\n",
    "    return handles, plt.pie(non_negligible, autopct=(lambda x: str(round(x,1))+'%'), radius=1.2, colors=colors, shadow=True, pctdistance=0.8)"
   ]
  },
  {
   "cell_type": "code",
   "execution_count": 819,
   "metadata": {
    "collapsed": false
   },
   "outputs": [],
   "source": [
    "def make_all_subs(DBN):\n",
    "    handles = []\n",
    "    handle_labels = []\n",
    "    for year in range(2006,2010):\n",
    "        ax = plt.subplot(3,4, year-2001)\n",
    "        ax.set_title(str(year))\n",
    "        try:\n",
    "            plots = make_pie_plot(year, DBN)\n",
    "            handles.extend(plots[0])\n",
    "            plots[1]\n",
    "        except KeyError: ##School not in dataset for year\n",
    "            ax.axis('off')\n",
    "            ax.text(0.5, 0.5,'Data not available\\nfor {}'.format(str(year)), fontsize=16,\n",
    "                    horizontalalignment='center', verticalalignment='center', transform=ax.transAxes)\n",
    "            \n",
    "    for year in range(2010, 2013):\n",
    "        ax = plt.subplot(3,4, year-2001)\n",
    "        ax.set_title(str(year))\n",
    "        try:\n",
    "            plots = make_pie_plot(year, DBN)\n",
    "            handles.extend(plots[0])\n",
    "            plots[1]\n",
    "        except KeyError: ##School not in dataset for year\n",
    "            ax.axis('off')\n",
    "            ax.text(0.5, 0.5,'Data not available\\nfor {}'.format(str(year)), fontsize=16,\n",
    "                    horizontalalignment='center', verticalalignment='center', transform=ax.transAxes)\n",
    "\n",
    "    legend_corner = plt.subplot(3,4,12)\n",
    "    legend_corner.axis('off')\n",
    "    unique_handles = []\n",
    "    for patch in handles:\n",
    "        if patch.get_label() in handle_labels:\n",
    "            pass\n",
    "        else:\n",
    "            handle_labels.append(patch.get_label())\n",
    "            unique_handles.append(patch)\n",
    "    plt.legend(handles=unique_handles, fontsize='medium', loc='center', title='Legend')\n",
    "    "
   ]
  },
  {
   "cell_type": "markdown",
   "metadata": {},
   "source": [
    "Now let's test it out:"
   ]
  },
  {
   "cell_type": "code",
   "execution_count": 821,
   "metadata": {
    "collapsed": false
   },
   "outputs": [],
   "source": [
    "container = widgets.Box()\n",
    "container.border_color = 'red'\n",
    "container.border_style = 'dotted'\n",
    "container.border_width = 3\n",
    "Search = widgets.Text(description='Search:', value='Bronx Lab')\n",
    "container.children=[Search]\n",
    "display(container)\n",
    "Search.on_submit(update_dropdown)"
   ]
  }
 ],
 "metadata": {
  "kernelspec": {
   "display_name": "Python 2",
   "language": "python",
   "name": "python2"
  },
  "language_info": {
   "codemirror_mode": {
    "name": "ipython",
    "version": 2
   },
   "file_extension": ".py",
   "mimetype": "text/x-python",
   "name": "python",
   "nbconvert_exporter": "python",
   "pygments_lexer": "ipython2",
   "version": "2.7.10"
  }
 },
 "nbformat": 4,
 "nbformat_minor": 0
}
