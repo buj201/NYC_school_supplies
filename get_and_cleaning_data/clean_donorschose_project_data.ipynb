{
 "cells": [
  {
   "cell_type": "markdown",
   "metadata": {},
   "source": [
    "# Reading and cleaning the DonorsChoose project data\n",
    "In this notebook, we read the DonorsChoose project data (downloaded from https://s3.amazonaws.com/open_data/csv/opendata_projects.zip)."
   ]
  },
  {
   "cell_type": "code",
   "execution_count": 1,
   "metadata": {
    "collapsed": true
   },
   "outputs": [],
   "source": [
    "import pandas as pd\n",
    "\n",
    "DonorsChooseDataHead = pd.read_csv('../../data/opendata_projects.csv', nrows = 6)"
   ]
  },
  {
   "cell_type": "markdown",
   "metadata": {},
   "source": [
    "The first thing we need to do is identify features to extract from this data set. Let's look at the columns:"
   ]
  },
  {
   "cell_type": "code",
   "execution_count": 2,
   "metadata": {
    "collapsed": false
   },
   "outputs": [
    {
     "data": {
      "text/plain": [
       "Index([u'_projectid', u'_teacher_acctid', u'_schoolid', u'school_ncesid',\n",
       "       u'school_latitude', u'school_longitude', u'school_city',\n",
       "       u'school_state', u'school_zip', u'school_metro', u'school_district',\n",
       "       u'school_county', u'school_charter', u'school_magnet',\n",
       "       u'school_year_round', u'school_nlns', u'school_kipp',\n",
       "       u'school_charter_ready_promise', u'teacher_prefix',\n",
       "       u'teacher_teach_for_america', u'teacher_ny_teaching_fellow',\n",
       "       u'primary_focus_subject', u'primary_focus_area',\n",
       "       u'secondary_focus_subject', u'secondary_focus_area', u'resource_type',\n",
       "       u'poverty_level', u'grade_level', u'vendor_shipping_charges',\n",
       "       u'sales_tax', u'payment_processing_charges',\n",
       "       u'fulfillment_labor_materials',\n",
       "       u'total_price_excluding_optional_support',\n",
       "       u'total_price_including_optional_support', u'students_reached',\n",
       "       u'total_donations', u'num_donors', u'eligible_double_your_impact_match',\n",
       "       u'eligible_almost_home_match', u'funding_status', u'date_posted',\n",
       "       u'date_completed', u'date_thank_you_packet_mailed', u'date_expiration'],\n",
       "      dtype='object')"
      ]
     },
     "execution_count": 2,
     "metadata": {},
     "output_type": "execute_result"
    }
   ],
   "source": [
    "DonorsChooseDataHead.columns"
   ]
  },
  {
   "cell_type": "markdown",
   "metadata": {},
   "source": [
    "The features we want are:\n",
    " - _teacher_acctid: (so we can count the number of unique teachers requesting grants from DonorsChoose in a school)\n",
    " - school_ncesid: (so we can merge the DonorsChoose data with our SCHMA and expenditure data)\n",
    " - resource_type: Books, Technology, Supplies, Trips, Visitors, Other (since we ultimately want to extract only supply, books, and technology requests).\n",
    " - total_price_including_optional_support: (this is the total cost of the grant request, excluding an optional donation to DonorsChoose to cover the non-profit's overhead).\n",
    " - funding_status: (since we only want to extract completed projects).\n",
    " - date_completed: (since we only want projects completed for the 2005-2006 AY through 2011-2012 AY)."
   ]
  },
  {
   "cell_type": "markdown",
   "metadata": {},
   "source": [
    "Now that we've identified the feature's we're interested in, let's read in the entire dataset."
   ]
  },
  {
   "cell_type": "code",
   "execution_count": 3,
   "metadata": {
    "collapsed": false
   },
   "outputs": [],
   "source": [
    "DonorsChooseAllData = pd.read_csv('../../data/opendata_projects.csv', usecols = ['_teacher_acctid', 'school_ncesid', 'resource_type', 'total_price_excluding_optional_support', 'funding_status', 'date_completed'])"
   ]
  },
  {
   "cell_type": "code",
   "execution_count": 4,
   "metadata": {
    "collapsed": false
   },
   "outputs": [
    {
     "data": {
      "text/plain": [
       "(878852, 6)"
      ]
     },
     "execution_count": 4,
     "metadata": {},
     "output_type": "execute_result"
    }
   ],
   "source": [
    "DonorsChooseAllData.shape"
   ]
  },
  {
   "cell_type": "markdown",
   "metadata": {},
   "source": [
    "Now let's start cleaning the data. First, let's drop all projects that were not completed (i.e. funds were not awarded for the project)."
   ]
  },
  {
   "cell_type": "code",
   "execution_count": 5,
   "metadata": {
    "collapsed": false
   },
   "outputs": [
    {
     "data": {
      "text/plain": [
       "completed      592757\n",
       "expired        253407\n",
       "live            24559\n",
       "reallocated      8129\n",
       "dtype: int64"
      ]
     },
     "execution_count": 5,
     "metadata": {},
     "output_type": "execute_result"
    }
   ],
   "source": [
    "DonorsChooseAllData.funding_status.value_counts()"
   ]
  },
  {
   "cell_type": "code",
   "execution_count": 6,
   "metadata": {
    "collapsed": false
   },
   "outputs": [
    {
     "data": {
      "text/plain": [
       "completed    592757\n",
       "dtype: int64"
      ]
     },
     "execution_count": 6,
     "metadata": {},
     "output_type": "execute_result"
    }
   ],
   "source": [
    "DonorsChooseAllData = DonorsChooseAllData[DonorsChooseAllData['funding_status'] == 'completed']\n",
    "DonorsChooseAllData.funding_status.value_counts()"
   ]
  },
  {
   "cell_type": "markdown",
   "metadata": {},
   "source": [
    "Next, let's drop all projects that were not for supplies and technology."
   ]
  },
  {
   "cell_type": "code",
   "execution_count": 7,
   "metadata": {
    "collapsed": false
   },
   "outputs": [
    {
     "data": {
      "text/plain": [
       "Supplies      213331\n",
       "Technology    174092\n",
       "Books         133556\n",
       "Other          63817\n",
       "Trips           6880\n",
       "Visitors        1051\n",
       "dtype: int64"
      ]
     },
     "execution_count": 7,
     "metadata": {},
     "output_type": "execute_result"
    }
   ],
   "source": [
    "DonorsChooseAllData.resource_type.value_counts()"
   ]
  },
  {
   "cell_type": "code",
   "execution_count": 8,
   "metadata": {
    "collapsed": false
   },
   "outputs": [
    {
     "data": {
      "text/plain": [
       "Supplies      213331\n",
       "Technology    174092\n",
       "Books         133556\n",
       "dtype: int64"
      ]
     },
     "execution_count": 8,
     "metadata": {},
     "output_type": "execute_result"
    }
   ],
   "source": [
    "DonorsChooseAllData = DonorsChooseAllData[DonorsChooseAllData['resource_type'].isin(['Supplies','Technology','Books'])]\n",
    "DonorsChooseAllData.resource_type.value_counts()"
   ]
  },
  {
   "cell_type": "markdown",
   "metadata": {},
   "source": [
    "Next, let's see how many records are missing values:"
   ]
  },
  {
   "cell_type": "code",
   "execution_count": 9,
   "metadata": {
    "collapsed": false
   },
   "outputs": [
    {
     "name": "stdout",
     "output_type": "stream",
     "text": [
      "There are 30057 rows with missing values\n"
     ]
    }
   ],
   "source": [
    "null = DonorsChooseAllData.isnull().any(axis=1).sum()\n",
    "print 'There are', null, 'rows with missing values'"
   ]
  },
  {
   "cell_type": "markdown",
   "metadata": {},
   "source": [
    "Let's see which fields are missing values:"
   ]
  },
  {
   "cell_type": "code",
   "execution_count": 12,
   "metadata": {
    "collapsed": false
   },
   "outputs": [
    {
     "data": {
      "text/plain": [
       "_teacher_acctid                           520979\n",
       "school_ncesid                             490922\n",
       "resource_type                             520979\n",
       "total_price_excluding_optional_support    520979\n",
       "funding_status                            520979\n",
       "date_completed                            520979\n",
       "dtype: int64"
      ]
     },
     "execution_count": 12,
     "metadata": {},
     "output_type": "execute_result"
    }
   ],
   "source": [
    "DonorsChooseAllData.count()"
   ]
  },
  {
   "cell_type": "markdown",
   "metadata": {},
   "source": [
    "All the missing values are in the school_ncesid field. Since this feature is our merge key, these values will be dropped regardless- thus, we drop them now."
   ]
  },
  {
   "cell_type": "code",
   "execution_count": 13,
   "metadata": {
    "collapsed": false
   },
   "outputs": [
    {
     "data": {
      "text/plain": [
       "(490922, 6)"
      ]
     },
     "execution_count": 13,
     "metadata": {},
     "output_type": "execute_result"
    }
   ],
   "source": [
    "DonorsChooseAllData.dropna(how='any', inplace=True)\n",
    "DonorsChooseAllData.shape"
   ]
  },
  {
   "cell_type": "markdown",
   "metadata": {},
   "source": [
    "Next, we need to read in the NCES ID's we have for our NYC Schools. We will then use these values as a filter (using .isin) to select only projects for schools in our NYC Schools dataset. "
   ]
  },
  {
   "cell_type": "code",
   "execution_count": 14,
   "metadata": {
    "collapsed": false
   },
   "outputs": [],
   "source": [
    "NCES_IDs = pd.read_csv('NCES_IDS_NYC.csv', header=None, names=['index', 'NCES_ID'], usecols=['NCES_ID'])\n",
    "NCES_IDs = NCES_IDs.astype(int)"
   ]
  },
  {
   "cell_type": "code",
   "execution_count": 15,
   "metadata": {
    "collapsed": false
   },
   "outputs": [
    {
     "data": {
      "text/plain": [
       "(1252, 1)"
      ]
     },
     "execution_count": 15,
     "metadata": {},
     "output_type": "execute_result"
    }
   ],
   "source": [
    "NCES_IDs.shape"
   ]
  },
  {
   "cell_type": "markdown",
   "metadata": {},
   "source": [
    "Now we filter our project data using these NCES_IDs. First, we change DonorsChooseAllData.school_ncesid to an int type feature."
   ]
  },
  {
   "cell_type": "code",
   "execution_count": 16,
   "metadata": {
    "collapsed": true
   },
   "outputs": [],
   "source": [
    "DonorsChooseAllData['school_ncesid'] = DonorsChooseAllData['school_ncesid'].astype(int)"
   ]
  },
  {
   "cell_type": "code",
   "execution_count": 17,
   "metadata": {
    "collapsed": false
   },
   "outputs": [
    {
     "data": {
      "text/plain": [
       "(29882, 6)"
      ]
     },
     "execution_count": 17,
     "metadata": {},
     "output_type": "execute_result"
    }
   ],
   "source": [
    "DonorsChooseAllData = DonorsChooseAllData[DonorsChooseAllData['school_ncesid'].isin(NCES_IDs[\"NCES_ID\"])]\n",
    "DonorsChooseAllData.shape"
   ]
  },
  {
   "cell_type": "markdown",
   "metadata": {},
   "source": [
    "Next, we use the \"Date_completed\" feature to construct a new feature, Year, which corresponds to the academic year. For this purpose, we are use June 1 through May 31st as the academic year (date_completed is the date the project was fully funded- since additional time is needed for procurement and shipping, we are justified in making June 1st the cutoff for the academic year)."
   ]
  },
  {
   "cell_type": "code",
   "execution_count": 18,
   "metadata": {
    "collapsed": false
   },
   "outputs": [],
   "source": [
    "import numpy as np\n",
    "\n",
    "def bin_datetime(date):\n",
    "    for year in range(2006,2013):\n",
    "        start = str(year-1) + '-6-01'\n",
    "        end = str(year) + '-5-31'\n",
    "        academic_year = pd.date_range(start,end)\n",
    "        if date in academic_year:\n",
    "            return year\n",
    "    return np.NaN\n",
    "\n",
    "def add_year_feature():\n",
    "    DonorsChooseAllData.date_completed = DonorsChooseAllData.date_completed.map(lambda x: pd.to_datetime(x))\n",
    "    DonorsChooseAllData['Year'] = DonorsChooseAllData.date_completed.map(bin_datetime)\n",
    "    return DonorsChooseAllData\n",
    "\n",
    "DonorsChooseAllData = add_year_feature()"
   ]
  },
  {
   "cell_type": "code",
   "execution_count": 19,
   "metadata": {
    "collapsed": false
   },
   "outputs": [],
   "source": [
    "DonorsChooseAllData.dropna(axis=0, how='any', inplace=True)"
   ]
  },
  {
   "cell_type": "code",
   "execution_count": 20,
   "metadata": {
    "collapsed": false
   },
   "outputs": [
    {
     "data": {
      "text/plain": [
       "2011    3732\n",
       "2010    3591\n",
       "2012    2970\n",
       "2009    2494\n",
       "2008    1744\n",
       "2007    1380\n",
       "2006    1329\n",
       "dtype: int64"
      ]
     },
     "execution_count": 20,
     "metadata": {},
     "output_type": "execute_result"
    }
   ],
   "source": [
    "DonorsChooseAllData.Year.value_counts()"
   ]
  },
  {
   "cell_type": "code",
   "execution_count": 21,
   "metadata": {
    "collapsed": false
   },
   "outputs": [
    {
     "data": {
      "text/html": [
       "<div>\n",
       "<table border=\"1\" class=\"dataframe\">\n",
       "  <thead>\n",
       "    <tr style=\"text-align: right;\">\n",
       "      <th></th>\n",
       "      <th>_teacher_acctid</th>\n",
       "      <th>school_ncesid</th>\n",
       "      <th>resource_type</th>\n",
       "      <th>total_price_excluding_optional_support</th>\n",
       "      <th>funding_status</th>\n",
       "      <th>date_completed</th>\n",
       "      <th>Year</th>\n",
       "    </tr>\n",
       "  </thead>\n",
       "  <tbody>\n",
       "    <tr>\n",
       "      <th>2960</th>\n",
       "      <td>8693409bfb567e832a344fe89957a34f</td>\n",
       "      <td>360008604459</td>\n",
       "      <td>Supplies</td>\n",
       "      <td>387.45</td>\n",
       "      <td>completed</td>\n",
       "      <td>2006-05-05</td>\n",
       "      <td>2006</td>\n",
       "    </tr>\n",
       "    <tr>\n",
       "      <th>4237</th>\n",
       "      <td>950ec91d97df2c5449ddcbc002582ae3</td>\n",
       "      <td>360011904358</td>\n",
       "      <td>Technology</td>\n",
       "      <td>834.00</td>\n",
       "      <td>completed</td>\n",
       "      <td>2005-06-24</td>\n",
       "      <td>2006</td>\n",
       "    </tr>\n",
       "    <tr>\n",
       "      <th>4447</th>\n",
       "      <td>80bdae0b3cc642138de2fd05e421b000</td>\n",
       "      <td>360015304885</td>\n",
       "      <td>Technology</td>\n",
       "      <td>559.00</td>\n",
       "      <td>completed</td>\n",
       "      <td>2006-08-29</td>\n",
       "      <td>2007</td>\n",
       "    </tr>\n",
       "    <tr>\n",
       "      <th>4561</th>\n",
       "      <td>7a20087fac86232883537cab45c0a6c9</td>\n",
       "      <td>360012202592</td>\n",
       "      <td>Books</td>\n",
       "      <td>540.00</td>\n",
       "      <td>completed</td>\n",
       "      <td>2005-06-06</td>\n",
       "      <td>2006</td>\n",
       "    </tr>\n",
       "    <tr>\n",
       "      <th>4562</th>\n",
       "      <td>7a20087fac86232883537cab45c0a6c9</td>\n",
       "      <td>360012202592</td>\n",
       "      <td>Books</td>\n",
       "      <td>252.00</td>\n",
       "      <td>completed</td>\n",
       "      <td>2005-06-24</td>\n",
       "      <td>2006</td>\n",
       "    </tr>\n",
       "    <tr>\n",
       "      <th>4606</th>\n",
       "      <td>93e409fe9b447635f9b3859ce577b80e</td>\n",
       "      <td>360012104886</td>\n",
       "      <td>Supplies</td>\n",
       "      <td>210.00</td>\n",
       "      <td>completed</td>\n",
       "      <td>2005-12-17</td>\n",
       "      <td>2006</td>\n",
       "    </tr>\n",
       "  </tbody>\n",
       "</table>\n",
       "</div>"
      ],
      "text/plain": [
       "                       _teacher_acctid  school_ncesid resource_type  \\\n",
       "2960  8693409bfb567e832a344fe89957a34f   360008604459      Supplies   \n",
       "4237  950ec91d97df2c5449ddcbc002582ae3   360011904358    Technology   \n",
       "4447  80bdae0b3cc642138de2fd05e421b000   360015304885    Technology   \n",
       "4561  7a20087fac86232883537cab45c0a6c9   360012202592         Books   \n",
       "4562  7a20087fac86232883537cab45c0a6c9   360012202592         Books   \n",
       "4606  93e409fe9b447635f9b3859ce577b80e   360012104886      Supplies   \n",
       "\n",
       "      total_price_excluding_optional_support funding_status date_completed  \\\n",
       "2960                                  387.45      completed     2006-05-05   \n",
       "4237                                  834.00      completed     2005-06-24   \n",
       "4447                                  559.00      completed     2006-08-29   \n",
       "4561                                  540.00      completed     2005-06-06   \n",
       "4562                                  252.00      completed     2005-06-24   \n",
       "4606                                  210.00      completed     2005-12-17   \n",
       "\n",
       "      Year  \n",
       "2960  2006  \n",
       "4237  2006  \n",
       "4447  2007  \n",
       "4561  2006  \n",
       "4562  2006  \n",
       "4606  2006  "
      ]
     },
     "execution_count": 21,
     "metadata": {},
     "output_type": "execute_result"
    }
   ],
   "source": [
    "DonorsChooseAllData.head(6)"
   ]
  },
  {
   "cell_type": "markdown",
   "metadata": {},
   "source": [
    "Next, since we want records by school/year, we need to group and aggregate:"
   ]
  },
  {
   "cell_type": "code",
   "execution_count": 22,
   "metadata": {
    "collapsed": false
   },
   "outputs": [
    {
     "data": {
      "text/html": [
       "<div>\n",
       "<table border=\"1\" class=\"dataframe\">\n",
       "  <thead>\n",
       "    <tr style=\"text-align: right;\">\n",
       "      <th></th>\n",
       "      <th></th>\n",
       "      <th>funding_status</th>\n",
       "      <th>total_price_excluding_optional_support</th>\n",
       "      <th>_teacher_acctid</th>\n",
       "    </tr>\n",
       "    <tr>\n",
       "      <th>school_ncesid</th>\n",
       "      <th>Year</th>\n",
       "      <th></th>\n",
       "      <th></th>\n",
       "      <th></th>\n",
       "    </tr>\n",
       "  </thead>\n",
       "  <tbody>\n",
       "    <tr>\n",
       "      <th rowspan=\"3\" valign=\"top\">360007600624</th>\n",
       "      <th>2006</th>\n",
       "      <td>2</td>\n",
       "      <td>2186.00</td>\n",
       "      <td>1</td>\n",
       "    </tr>\n",
       "    <tr>\n",
       "      <th>2010</th>\n",
       "      <td>1</td>\n",
       "      <td>343.02</td>\n",
       "      <td>1</td>\n",
       "    </tr>\n",
       "    <tr>\n",
       "      <th>2011</th>\n",
       "      <td>1</td>\n",
       "      <td>477.14</td>\n",
       "      <td>1</td>\n",
       "    </tr>\n",
       "  </tbody>\n",
       "</table>\n",
       "</div>"
      ],
      "text/plain": [
       "                    funding_status  total_price_excluding_optional_support  \\\n",
       "school_ncesid Year                                                           \n",
       "360007600624  2006               2                                 2186.00   \n",
       "              2010               1                                  343.02   \n",
       "              2011               1                                  477.14   \n",
       "\n",
       "                    _teacher_acctid  \n",
       "school_ncesid Year                   \n",
       "360007600624  2006                1  \n",
       "              2010                1  \n",
       "              2011                1  "
      ]
     },
     "execution_count": 22,
     "metadata": {},
     "output_type": "execute_result"
    }
   ],
   "source": [
    "grouped = DonorsChooseAllData.groupby(['school_ncesid','Year']).aggregate({'total_price_excluding_optional_support': np.sum,\n",
    "                                                                           '_teacher_acctid': lambda x: x.nunique(),\n",
    "                                                                          'funding_status': lambda x: len(x)})\n",
    "grouped.head(3)"
   ]
  },
  {
   "cell_type": "code",
   "execution_count": 33,
   "metadata": {
    "collapsed": false
   },
   "outputs": [
    {
     "data": {
      "text/html": [
       "<div>\n",
       "<table border=\"1\" class=\"dataframe\">\n",
       "  <thead>\n",
       "    <tr style=\"text-align: right;\">\n",
       "      <th></th>\n",
       "      <th></th>\n",
       "      <th>Number_projects</th>\n",
       "      <th>Total_donations_recieved</th>\n",
       "      <th>Number_teachers_participating</th>\n",
       "    </tr>\n",
       "    <tr>\n",
       "      <th>school_ncesid</th>\n",
       "      <th>Year</th>\n",
       "      <th></th>\n",
       "      <th></th>\n",
       "      <th></th>\n",
       "    </tr>\n",
       "  </thead>\n",
       "  <tbody>\n",
       "    <tr>\n",
       "      <th rowspan=\"3\" valign=\"top\">360007600624</th>\n",
       "      <th>2006</th>\n",
       "      <td>2</td>\n",
       "      <td>2186.00</td>\n",
       "      <td>1</td>\n",
       "    </tr>\n",
       "    <tr>\n",
       "      <th>2010</th>\n",
       "      <td>1</td>\n",
       "      <td>343.02</td>\n",
       "      <td>1</td>\n",
       "    </tr>\n",
       "    <tr>\n",
       "      <th>2011</th>\n",
       "      <td>1</td>\n",
       "      <td>477.14</td>\n",
       "      <td>1</td>\n",
       "    </tr>\n",
       "  </tbody>\n",
       "</table>\n",
       "</div>"
      ],
      "text/plain": [
       "                    Number_projects  Total_donations_recieved  \\\n",
       "school_ncesid Year                                              \n",
       "360007600624  2006                2                   2186.00   \n",
       "              2010                1                    343.02   \n",
       "              2011                1                    477.14   \n",
       "\n",
       "                    Number_teachers_participating  \n",
       "school_ncesid Year                                 \n",
       "360007600624  2006                              1  \n",
       "              2010                              1  \n",
       "              2011                              1  "
      ]
     },
     "execution_count": 33,
     "metadata": {},
     "output_type": "execute_result"
    }
   ],
   "source": [
    "grouped.columns = ['Number_projects','Total_donations_recieved','Number_teachers_participating']\n",
    "grouped.head(3)"
   ]
  },
  {
   "cell_type": "markdown",
   "metadata": {},
   "source": [
    "Now, let's briefly explore this dataset:"
   ]
  },
  {
   "cell_type": "code",
   "execution_count": 25,
   "metadata": {
    "collapsed": false
   },
   "outputs": [
    {
     "data": {
      "image/png": "[encoded data removed]",
      "text/plain": [
       "<matplotlib.figure.Figure at 0x10e070210>"
      ]
     },
     "metadata": {},
     "output_type": "display_data"
    }
   ],
   "source": [
    "import matplotlib.pyplot as plt\n",
    "%matplotlib inline\n",
    "\n",
    "plt.figure()\n",
    "donation_vals = plt.hist(grouped.Total_donations_recieved.values, bins=100)"
   ]
  },
  {
   "cell_type": "code",
   "execution_count": 28,
   "metadata": {
    "collapsed": false
   },
   "outputs": [
    {
     "name": "stdout",
     "output_type": "stream",
     "text": [
      "{2006: 581719.17, 2007: 763564.300000001, 2008: 814871.1700000003, 2009: 1082817.73, 2010: 1848215.0999999992, 2011: 1659365.6900000004, 2012: 1260168.7700000014}\n"
     ]
    }
   ],
   "source": [
    "total_funds = {}\n",
    "for year in range(2006,2013):\n",
    "    total_funds[year] = grouped.loc[(slice(None),year),'Total_donations_recieved'].sum()\n",
    "print total_funds"
   ]
  },
  {
   "cell_type": "code",
   "execution_count": 29,
   "metadata": {
    "collapsed": false
   },
   "outputs": [
    {
     "data": {
      "image/png": "[encoded data removed]",
      "text/plain": [
       "<matplotlib.figure.Figure at 0x10be4f990>"
      ]
     },
     "metadata": {},
     "output_type": "display_data"
    }
   ],
   "source": [
    "fig = plt.figure()\n",
    "ax = fig.add_subplot(111)\n",
    "ax.plot(total_funds.keys(), total_funds.values())\n",
    "plt.show(fig)"
   ]
  },
  {
   "cell_type": "code",
   "execution_count": 31,
   "metadata": {
    "collapsed": false
   },
   "outputs": [
    {
     "name": "stdout",
     "output_type": "stream",
     "text": [
      "{2006: 684, 2007: 708, 2008: 1002, 2009: 1341, 2010: 1644, 2011: 1708, 2012: 1387}\n"
     ]
    }
   ],
   "source": [
    "total_teachers = {}\n",
    "for year in range(2006,2013):\n",
    "    total_teachers[year] = grouped.loc[(slice(None),year),'Number_teachers_participating'].sum()\n",
    "print total_teachers"
   ]
  },
  {
   "cell_type": "code",
   "execution_count": 32,
   "metadata": {
    "collapsed": false
   },
   "outputs": [
    {
     "data": {
      "image/png": "[encoded data removed]",
      "text/plain": [
       "<matplotlib.figure.Figure at 0x10b2b9810>"
      ]
     },
     "metadata": {},
     "output_type": "display_data"
    }
   ],
   "source": [
    "fig = plt.figure()\n",
    "ax = fig.add_subplot(111)\n",
    "ax.plot(total_teachers.keys(), total_teachers.values())\n",
    "plt.show(fig)"
   ]
  },
  {
   "cell_type": "markdown",
   "metadata": {},
   "source": [
    "Interestingly, it is apparent that the number of participating teachers (and amount of money requested) clearly rose and fell during the recession."
   ]
  },
  {
   "cell_type": "markdown",
   "metadata": {},
   "source": [
    "Now let's write this dataframe to csv so we can merge it with the cleaned_SCHMA data."
   ]
  },
  {
   "cell_type": "code",
   "execution_count": 34,
   "metadata": {
    "collapsed": true
   },
   "outputs": [],
   "source": [
    "grouped.to_csv('../../data/clean_donors_choose.csv')"
   ]
  }
 ],
 "metadata": {
  "kernelspec": {
   "display_name": "Python 2",
   "language": "python",
   "name": "python2"
  },
  "language_info": {
   "codemirror_mode": {
    "name": "ipython",
    "version": 2
   },
   "file_extension": ".py",
   "mimetype": "text/x-python",
   "name": "python",
   "nbconvert_exporter": "python",
   "pygments_lexer": "ipython2",
   "version": "2.7.10"
  }
 },
 "nbformat": 4,
 "nbformat_minor": 0
}
