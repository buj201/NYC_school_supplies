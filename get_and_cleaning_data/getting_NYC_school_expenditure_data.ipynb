{
 "cells": [
  {
   "cell_type": "markdown",
   "metadata": {},
   "source": [
    "# Scraping school supply budgets from the NYC DoE"
   ]
  },
  {
   "cell_type": "markdown",
   "metadata": {},
   "source": [
    "Our goal is to get the school expenditure data from 2006 to 2012. Our strategy is to:\n",
    "* Search the NYC School Based Expenditure report for each year for each school (DBN)\n",
    "* Pull the school name from the search results, and then use this name to get the specific expenditure report."
   ]
  },
  {
   "cell_type": "code",
   "execution_count": 1,
   "metadata": {
    "collapsed": false
   },
   "outputs": [],
   "source": [
    "import urllib2\n",
    "import re\n",
    "import pandas as pd\n",
    "import numpy as np\n",
    "from retrying import retry\n",
    "\n",
    "##Retry decorator will retry every two seconds, for up to 10 seconds, if server side error\n",
    "    \n",
    "@retry(wait_fixed=2000, stop_max_delay=10000)\n",
    "def search_by_year_and_DBN(year, DBN):\n",
    "    \n",
    "    ## build keys for results dictionary\n",
    "    tot_exp_key = 'total_expenditure_' + str(year)\n",
    "    per_stu_key = 'per_student_' + str(year)\n",
    "    percent_exp_key = 'percent_of_all_expenditures_' + str(year)\n",
    "\n",
    "    ##build initial query using year and DBN\n",
    "    years = str(year-1) + '_' + str(year)\n",
    "    query = (\"https://www.nycenet.edu/offices/d_chanc_oper/budget/exp01/y\" + years +\n",
    "             \"/function.asp?district=All&search=\" + DBN +\n",
    "             \"&searchgo=Search&LCMS=**&GRANT=NO&cr1=All&cr2=All&cr3=All&cr4=All&R=1&prior=search\")\n",
    "    \n",
    "    ##get school name by searching html page returned from query- if not found, return series of NaNs.\n",
    "    try:\n",
    "        response = urllib2.urlopen(query)\n",
    "        search_results = response.read()\n",
    "    except urllib2.HTTPError:\n",
    "        results = {tot_exp_key: np.nan, per_stu_key: np.nan, percent_exp_key: np.nan}\n",
    "        return pd.Series(results, name=DBN)\n",
    "        \n",
    "    try:\n",
    "        school_name = re.findall('Search\\sResults\\s--\\sSchool\\sList.*?\\n', search_results)\n",
    "        school_name = re.findall(r'\\\"(.+?)\\\"', school_name[0])\n",
    "        school_name = re.sub('\\s', '+', school_name[0])\n",
    "        school_name = re.sub('\\+\\++','', school_name)\n",
    "    except:\n",
    "        results = {tot_exp_key: np.nan, per_stu_key: np.nan, percent_exp_key: np.nan}\n",
    "        return pd.Series(results, name=DBN)\n",
    "    \n",
    "    ##if found, use school name to build new query to get expenditure report for year:\n",
    "    query2 = (\"https://www.nycenet.edu/offices/d_chanc_oper/budget/exp01/y\" + years +\n",
    "             \"/function.asp?district=&search=\" + DBN + \"&LCMS=\" + school_name +\n",
    "             \"&schoolgo=Go&GRANT=NO&cr1=All&cr2=All&cr3=All&cr4=All&R=1&prior=search\")\n",
    "    try:\n",
    "        response = urllib2.urlopen(query2)\n",
    "        search_results = response.read()\n",
    "    except urllib2.HTTPError:\n",
    "        results = {tot_exp_key: np.nan, per_stu_key: np.nan, percent_exp_key: np.nan}\n",
    "        return pd.Series(results, name=DBN)\n",
    "        \n",
    "    ##parse expenditure report to determine instructional equipment and supplies expenditures\n",
    "    target_row_in_expenditure_report = re.findall('Instructional\\&nbsp;Supplies.*?Professional\\&nbsp;Development', search_results)\n",
    "    expense_records = re.findall(r'\\$\\d*,?\\d*', target_row_in_expenditure_report[0])\n",
    "    total_expenditure = re.sub('\\$|,', '', expense_records[0])\n",
    "    per_student = re.sub('\\$|,', '', expense_records[1])\n",
    "    percent = re.findall(r'\\d+\\.\\d+\\%', target_row_in_expenditure_report[0])\n",
    "    percent_of_all_expenditures = float(re.sub('\\%','', percent[0]))/100.0\n",
    "    \n",
    "    results = {tot_exp_key: total_expenditure, per_stu_key: per_student, percent_exp_key: percent_of_all_expenditures}\n",
    "    results = pd.Series(results, name=DBN)\n",
    "    return results\n"
   ]
  },
  {
   "cell_type": "markdown",
   "metadata": {},
   "source": [
    "Now, we need to import the list of school DBN (which we can read in as unique values in the DBN feature in the School Demographic and Accountability Snapshot, 2006-2012)."
   ]
  },
  {
   "cell_type": "code",
   "execution_count": 2,
   "metadata": {
    "collapsed": false
   },
   "outputs": [],
   "source": [
    "def get_DBN_list():\n",
    "    query = 'https://nycopendata.socrata.com/api/views/ihfw-zy9j/rows.csv?accessType=DOWNLOAD'\n",
    "    Demo_and_Account = pd.read_csv(query)\n",
    "    all_DBNs = Demo_and_Account['DBN']\n",
    "    unique_DBNs = all_DBNs.unique()\n",
    "    for i in range(len(unique_DBNs)):\n",
    "        unique_DBNs[i] = unique_DBNs[i][2:]\n",
    "    return unique_DBNs"
   ]
  },
  {
   "cell_type": "code",
   "execution_count": 3,
   "metadata": {
    "collapsed": false
   },
   "outputs": [],
   "source": [
    "def build_expenditure_dataframe(year):\n",
    "    unique_DBNs = get_DBN_list()\n",
    "    file_path = 'school_supply_expenditures_' + str(year)\n",
    "    getting_first_school = True\n",
    "    for DBN in unique_DBNs:\n",
    "        if getting_first_school == True:\n",
    "            results_for_year = search_by_year_and_DBN(year, DBN)\n",
    "            getting_first_school = False\n",
    "        else:\n",
    "            school_results = search_by_year_and_DBN(year, DBN)\n",
    "            results_for_year = pd.concat([results_for_year, school_results], axis=1)\n",
    "    results_for_year = results_for_year.T\n",
    "    return results_for_year"
   ]
  },
  {
   "cell_type": "code",
   "execution_count": 4,
   "metadata": {
    "collapsed": true
   },
   "outputs": [],
   "source": [
    "def save_2006_to_2012_data():\n",
    "    for year in range(2006,2013):\n",
    "        print 'Getting data for ', year\n",
    "        save_path = \"school_expenditures/school_expenditures_\" + str(year) + \".csv\"\n",
    "        year_expenditure_data = build_expenditure_dataframe(year)\n",
    "        year_expenditure_data.to_csv(save_path)\n",
    "    print 'Done'"
   ]
  },
  {
   "cell_type": "code",
   "execution_count": null,
   "metadata": {
    "collapsed": false
   },
   "outputs": [],
   "source": [
    "save_2006_to_2012_data()"
   ]
  },
  {
   "cell_type": "markdown",
   "metadata": {},
   "source": [
    "Now that we have the data, our next task is to merge all the years into a single data frame."
   ]
  },
  {
   "cell_type": "code",
   "execution_count": 16,
   "metadata": {
    "collapsed": false
   },
   "outputs": [],
   "source": [
    "def merge_all_years():\n",
    "    year_data = {}\n",
    "    for year in range(2011,2013):\n",
    "        path = 'school_expenditures/school_expenditures_' + str(year) + '.csv'\n",
    "        year_data['year_{0}'.format(year)] =  pd.read_csv(path, index_col=0)    \n",
    "    all_years = pd.concat(year_data.values(), axis=1, join='inner')\n",
    "    return all_years\n",
    "\n",
    "all_years = merge_all_years()"
   ]
  },
  {
   "cell_type": "code",
   "execution_count": 86,
   "metadata": {
    "collapsed": false
   },
   "outputs": [
    {
     "data": {
      "text/plain": [
       "<matplotlib.text.Text at 0x10a109b90>"
      ]
     },
     "execution_count": 86,
     "metadata": {},
     "output_type": "execute_result"
    },
    {
     "data": {
      "image/png": "[encoded data removed]",
      "text/plain": [
       "<matplotlib.figure.Figure at 0x10b1911d0>"
      ]
     },
     "metadata": {},
     "output_type": "display_data"
    }
   ],
   "source": [
    "import matplotlib.pyplot as plt\n",
    "%matplotlib inline \n",
    "plt.figure(1)\n",
    "expenditures_2011 = plt.hist(all_years.per_student_2011.values, alpha=0.4, bins=100, range=[0,2500], label='2011')\n",
    "expenditures_2012 = plt.hist(all_years.per_student_2012.values, alpha=0.4, bins=100, range=[0,2500], label='2012')\n",
    "plt.legend()\n",
    "plt.title('Per student instructional supply/equip. expenditures')"
   ]
  },
  {
   "cell_type": "code",
   "execution_count": 96,
   "metadata": {
    "collapsed": false
   },
   "outputs": [
    {
     "name": "stdout",
     "output_type": "stream",
     "text": [
      "7245.0\n"
     ]
    }
   ],
   "source": [
    "print max(all_years.per_student_2012.values)"
   ]
  }
 ],
 "metadata": {
  "kernelspec": {
   "display_name": "Python 2",
   "language": "python",
   "name": "python2"
  },
  "language_info": {
   "codemirror_mode": {
    "name": "ipython",
    "version": 2
   },
   "file_extension": ".py",
   "mimetype": "text/x-python",
   "name": "python",
   "nbconvert_exporter": "python",
   "pygments_lexer": "ipython2",
   "version": "2.7.10"
  }
 },
 "nbformat": 4,
 "nbformat_minor": 0
}
