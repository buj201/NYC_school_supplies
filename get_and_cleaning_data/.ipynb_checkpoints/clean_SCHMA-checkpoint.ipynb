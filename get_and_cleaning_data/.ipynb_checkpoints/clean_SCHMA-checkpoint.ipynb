{
 "cells": [
  {
   "cell_type": "markdown",
   "metadata": {},
   "source": [
    "# Clean data from SCHMA\n",
    "\n",
    "In this notebook, we will clean data from the <a href=\"http://steinhardt.nyu.edu/research_alliance/research/schma\"> School-Level Master File</a>. This dataset is produced by the Research Alliance for New York City Schools at NYU. They describe it as follows:\n",
    "\n",
    "<i>The School-Level Master File (SCHMA) is a dataset developed by the Research Alliance for New York City Schools at New York University. To create the file, we compiled publicly available data from the New York City Department of Education (DOE) and the U.S. Department of Education. The result is a consistent, accessible document that can be used to investigate characteristics of individual New York City schools or groups of schools and how they have changed over time.</i>\n",
    "\n",
    "We will use the SCHMA to obtain the following information about NYC schools from 2006-2012:\n",
    "1. Persistent DBN's (unique school identifier)\n",
    "2. National Center for Education Statistics (NCES) school IDs (used to merge NYC data with DonorsChoose data).\n",
    "3. Number of FTE teachers."
   ]
  },
  {
   "cell_type": "code",
   "execution_count": 2,
   "metadata": {
    "collapsed": false
   },
   "outputs": [
    {
     "name": "stderr",
     "output_type": "stream",
     "text": [
      "/Users/benjaminjakubowski/anaconda/lib/python2.7/site-packages/pandas/io/parsers.py:1170: DtypeWarning: Columns (121,122,123,145,146,147,180,218,219,223,224,227,228,229,231,232,244) have mixed types. Specify dtype option on import or set low_memory=False.\n",
      "  data = self._reader.read(nrows)\n"
     ]
    }
   ],
   "source": [
    "from scipy.stats import mode\n",
    "import numpy as np\n",
    "import matplotlib.pyplot as plt\n",
    "import pandas as pd\n",
    "\n",
    "raw_SCHMA = pd.read_csv('SCHMA/schma19962013.csv')"
   ]
  },
  {
   "cell_type": "markdown",
   "metadata": {},
   "source": [
    "First read in only records for schools present in 2013, starting in 2006.\n",
    "Then select the relevant features (YEAR, BNLONG, NCESSCH, BOROUGH, AND CCDNUMFTE)."
   ]
  },
  {
   "cell_type": "code",
   "execution_count": 3,
   "metadata": {
    "collapsed": true
   },
   "outputs": [],
   "source": [
    "proc_SCHMA = raw_SCHMA.loc[(2006 <= raw_SCHMA.YEAR)]\n",
    "proc_SCHMA = proc_SCHMA.loc[(2013 == proc_SCHMA.BNLONG_YRLAST)]\n",
    "proc_SCHMA = proc_SCHMA[['YEAR', 'BNLONG','NCESSCH','BOROUGH','CCDNUMFTE']]"
   ]
  },
  {
   "cell_type": "markdown",
   "metadata": {},
   "source": [
    "Next, merge the records for each school for each year (with the year range\n",
    "reflecting data available in the School Demographics and Accountability Snapshot).\n",
    "For example, school M110 will have records for all years 2006-2012."
   ]
  },
  {
   "cell_type": "code",
   "execution_count": 4,
   "metadata": {
    "collapsed": true
   },
   "outputs": [],
   "source": [
    "merged_by_school = proc_SCHMA.loc[(2006 == proc_SCHMA.YEAR)]\n",
    "merged_by_school = merged_by_school.drop('YEAR',axis=1)\n",
    "\n",
    "years = range(2007,2013)\n",
    "for year in years:\n",
    "    proc_SCHMA_year = proc_SCHMA.loc[(year == proc_SCHMA.YEAR)]\n",
    "    proc_SCHMA_year = proc_SCHMA_year.drop(['BOROUGH','YEAR'],axis=1)\n",
    "    new_col_index = ['BNLONG']\n",
    "    for feature in proc_SCHMA_year.columns:\n",
    "        if feature != 'BNLONG':\n",
    "            feature = str(year) + '_' + feature\n",
    "            new_col_index.append(feature)\n",
    "    proc_SCHMA_year.columns = new_col_index\n",
    "    merged_by_school = pd.merge(merged_by_school, proc_SCHMA_year, how='inner', on='BNLONG')"
   ]
  },
  {
   "cell_type": "markdown",
   "metadata": {},
   "source": [
    "Next, determine the number of schools with NCES ID's available in the SCHMA, and replace year-by-year\n",
    "values with the most commonly reported NCES ID's. Specifically, potential conflicts are resolved\n",
    "using the mode (i.e. if multiple NCES ID's are reported, only the most frequent will be retained)."
   ]
  },
  {
   "cell_type": "code",
   "execution_count": 5,
   "metadata": {
    "collapsed": false
   },
   "outputs": [
    {
     "name": "stdout",
     "output_type": "stream",
     "text": [
      "NCES ID not available for 399 schools.\n",
      "NCES ID available for 924 schools.\n"
     ]
    }
   ],
   "source": [
    "NCESSCH_inputed_modes, bins = mode(merged_by_school[['NCESSCH','2007_NCESSCH','2008_NCESSCH','2009_NCESSCH','2010_NCESSCH','2011_NCESSCH','2012_NCESSCH']],axis=1)\n",
    "print 'NCES ID not available for ' + str(len(NCESSCH_inputed_modes[NCESSCH_inputed_modes == 0.0])) + ' schools.'\n",
    "print 'NCES ID available for ' + str(len(np.unique(NCESSCH_inputed_modes))-1) + ' schools.'\n",
    "clean_SCHMA_data = merged_by_school.drop(['NCESSCH', 'NCESSCH','2007_NCESSCH','2008_NCESSCH','2009_NCESSCH','2010_NCESSCH','2011_NCESSCH','2012_NCESSCH'],axis=1)\n",
    "clean_SCHMA_data['NCES_ID'] = NCESSCH_inputed_modes\n",
    "clean_SCHMA_data = clean_SCHMA_data[clean_SCHMA_data.NCES_ID != 0.0]"
   ]
  },
  {
   "cell_type": "markdown",
   "metadata": {},
   "source": [
    "Now initial exploration: print null values by feature, and then count by 'Borough'."
   ]
  },
  {
   "cell_type": "code",
   "execution_count": 6,
   "metadata": {
    "collapsed": false
   },
   "outputs": [
    {
     "name": "stdout",
     "output_type": "stream",
     "text": [
      "BNLONG             0\n",
      "BOROUGH            0\n",
      "CCDNUMFTE         26\n",
      "2007_CCDNUMFTE    19\n",
      "2008_CCDNUMFTE     8\n",
      "2009_CCDNUMFTE     5\n",
      "2010_CCDNUMFTE     0\n",
      "2011_CCDNUMFTE     0\n",
      "2012_CCDNUMFTE     0\n",
      "NCES_ID            0\n",
      "dtype: int64\n",
      "Number of schools with missing values: 33\n",
      "BOROUGH\n",
      "K    308\n",
      "M    202\n",
      "Q    185\n",
      "R      8\n",
      "X    221\n",
      "Name: BNLONG, dtype: int64\n"
     ]
    }
   ],
   "source": [
    "print clean_SCHMA_data.isnull().sum()\n",
    "print 'Number of schools with missing values: ' + str(len(clean_SCHMA_data[clean_SCHMA_data.isnull().any(axis=1)]))\n",
    "\n",
    "grouped = clean_SCHMA_data.groupby('BOROUGH')['BNLONG']\n",
    "print grouped.count()"
   ]
  },
  {
   "cell_type": "code",
   "execution_count": 7,
   "metadata": {
    "collapsed": false
   },
   "outputs": [
    {
     "data": {
      "text/html": [
       "<div>\n",
       "<table border=\"1\" class=\"dataframe\">\n",
       "  <thead>\n",
       "    <tr style=\"text-align: right;\">\n",
       "      <th></th>\n",
       "      <th>CCDNUMFTE</th>\n",
       "      <th>2007_CCDNUMFTE</th>\n",
       "      <th>2008_CCDNUMFTE</th>\n",
       "      <th>2009_CCDNUMFTE</th>\n",
       "      <th>2010_CCDNUMFTE</th>\n",
       "      <th>2011_CCDNUMFTE</th>\n",
       "      <th>2012_CCDNUMFTE</th>\n",
       "      <th>NCES_ID</th>\n",
       "    </tr>\n",
       "  </thead>\n",
       "  <tbody>\n",
       "    <tr>\n",
       "      <th>count</th>\n",
       "      <td>898.000000</td>\n",
       "      <td>905.000000</td>\n",
       "      <td>916.000000</td>\n",
       "      <td>919.000000</td>\n",
       "      <td>924.000000</td>\n",
       "      <td>924.000000</td>\n",
       "      <td>924.000000</td>\n",
       "      <td>9.240000e+02</td>\n",
       "    </tr>\n",
       "    <tr>\n",
       "      <th>mean</th>\n",
       "      <td>47.435412</td>\n",
       "      <td>48.811492</td>\n",
       "      <td>48.100328</td>\n",
       "      <td>48.639717</td>\n",
       "      <td>46.735422</td>\n",
       "      <td>45.391201</td>\n",
       "      <td>43.904621</td>\n",
       "      <td>3.600100e+11</td>\n",
       "    </tr>\n",
       "    <tr>\n",
       "      <th>std</th>\n",
       "      <td>35.910808</td>\n",
       "      <td>33.860437</td>\n",
       "      <td>32.809045</td>\n",
       "      <td>31.824948</td>\n",
       "      <td>30.005787</td>\n",
       "      <td>29.301420</td>\n",
       "      <td>29.425692</td>\n",
       "      <td>2.222157e+06</td>\n",
       "    </tr>\n",
       "    <tr>\n",
       "      <th>min</th>\n",
       "      <td>3.000000</td>\n",
       "      <td>8.000000</td>\n",
       "      <td>6.000000</td>\n",
       "      <td>6.000000</td>\n",
       "      <td>8.000000</td>\n",
       "      <td>8.010000</td>\n",
       "      <td>6.400000</td>\n",
       "      <td>3.600076e+11</td>\n",
       "    </tr>\n",
       "    <tr>\n",
       "      <th>25%</th>\n",
       "      <td>23.000000</td>\n",
       "      <td>26.300000</td>\n",
       "      <td>27.000000</td>\n",
       "      <td>28.000000</td>\n",
       "      <td>27.010000</td>\n",
       "      <td>26.252500</td>\n",
       "      <td>26.000000</td>\n",
       "      <td>3.600085e+11</td>\n",
       "    </tr>\n",
       "    <tr>\n",
       "      <th>50%</th>\n",
       "      <td>40.000000</td>\n",
       "      <td>41.200000</td>\n",
       "      <td>40.000000</td>\n",
       "      <td>41.000000</td>\n",
       "      <td>39.025000</td>\n",
       "      <td>38.030000</td>\n",
       "      <td>37.000000</td>\n",
       "      <td>3.600092e+11</td>\n",
       "    </tr>\n",
       "    <tr>\n",
       "      <th>75%</th>\n",
       "      <td>59.000000</td>\n",
       "      <td>60.000000</td>\n",
       "      <td>58.050000</td>\n",
       "      <td>60.000000</td>\n",
       "      <td>57.000000</td>\n",
       "      <td>55.002500</td>\n",
       "      <td>52.010000</td>\n",
       "      <td>3.600103e+11</td>\n",
       "    </tr>\n",
       "    <tr>\n",
       "      <th>max</th>\n",
       "      <td>282.000000</td>\n",
       "      <td>253.600000</td>\n",
       "      <td>258.600000</td>\n",
       "      <td>246.100000</td>\n",
       "      <td>244.000000</td>\n",
       "      <td>230.050000</td>\n",
       "      <td>244.310000</td>\n",
       "      <td>3.600153e+11</td>\n",
       "    </tr>\n",
       "  </tbody>\n",
       "</table>\n",
       "</div>"
      ],
      "text/plain": [
       "        CCDNUMFTE  2007_CCDNUMFTE  2008_CCDNUMFTE  2009_CCDNUMFTE  \\\n",
       "count  898.000000      905.000000      916.000000      919.000000   \n",
       "mean    47.435412       48.811492       48.100328       48.639717   \n",
       "std     35.910808       33.860437       32.809045       31.824948   \n",
       "min      3.000000        8.000000        6.000000        6.000000   \n",
       "25%     23.000000       26.300000       27.000000       28.000000   \n",
       "50%     40.000000       41.200000       40.000000       41.000000   \n",
       "75%     59.000000       60.000000       58.050000       60.000000   \n",
       "max    282.000000      253.600000      258.600000      246.100000   \n",
       "\n",
       "       2010_CCDNUMFTE  2011_CCDNUMFTE  2012_CCDNUMFTE       NCES_ID  \n",
       "count      924.000000      924.000000      924.000000  9.240000e+02  \n",
       "mean        46.735422       45.391201       43.904621  3.600100e+11  \n",
       "std         30.005787       29.301420       29.425692  2.222157e+06  \n",
       "min          8.000000        8.010000        6.400000  3.600076e+11  \n",
       "25%         27.010000       26.252500       26.000000  3.600085e+11  \n",
       "50%         39.025000       38.030000       37.000000  3.600092e+11  \n",
       "75%         57.000000       55.002500       52.010000  3.600103e+11  \n",
       "max        244.000000      230.050000      244.310000  3.600153e+11  "
      ]
     },
     "execution_count": 7,
     "metadata": {},
     "output_type": "execute_result"
    }
   ],
   "source": [
    "clean_SCHMA_data.describe()"
   ]
  },
  {
   "cell_type": "code",
   "execution_count": 8,
   "metadata": {
    "collapsed": false
   },
   "outputs": [
    {
     "data": {
      "text/plain": [
       "<matplotlib.text.Text at 0x1029b6ad0>"
      ]
     },
     "execution_count": 8,
     "metadata": {},
     "output_type": "execute_result"
    },
    {
     "data": {
      "image/png": "[encoded data removed]",
      "text/plain": [
       "<matplotlib.figure.Figure at 0x108b6fc90>"
      ]
     },
     "metadata": {},
     "output_type": "display_data"
    }
   ],
   "source": [
    "%matplotlib inline\n",
    "fte = plt.hist(clean_SCHMA_data.drop(['NCES_ID'],axis=1).mean(axis=1).values,bins=50)\n",
    "plt.title('Average number of FTE teachers, by NYC school, from 2006-2012')"
   ]
  },
  {
   "cell_type": "code",
   "execution_count": 9,
   "metadata": {
    "collapsed": false
   },
   "outputs": [
    {
     "data": {
      "text/html": [
       "<div>\n",
       "<table border=\"1\" class=\"dataframe\">\n",
       "  <thead>\n",
       "    <tr style=\"text-align: right;\">\n",
       "      <th></th>\n",
       "      <th>BNLONG</th>\n",
       "      <th>BOROUGH</th>\n",
       "      <th>CCDNUMFTE</th>\n",
       "      <th>2007_CCDNUMFTE</th>\n",
       "      <th>2008_CCDNUMFTE</th>\n",
       "      <th>2009_CCDNUMFTE</th>\n",
       "      <th>2010_CCDNUMFTE</th>\n",
       "      <th>2011_CCDNUMFTE</th>\n",
       "      <th>2012_CCDNUMFTE</th>\n",
       "      <th>NCES_ID</th>\n",
       "    </tr>\n",
       "  </thead>\n",
       "  <tbody>\n",
       "    <tr>\n",
       "      <th>6</th>\n",
       "      <td>M110</td>\n",
       "      <td>M</td>\n",
       "      <td>44</td>\n",
       "      <td>37.0</td>\n",
       "      <td>34.0</td>\n",
       "      <td>35.9</td>\n",
       "      <td>35.01</td>\n",
       "      <td>34.82</td>\n",
       "      <td>33.01</td>\n",
       "      <td>3.600076e+11</td>\n",
       "    </tr>\n",
       "    <tr>\n",
       "      <th>7</th>\n",
       "      <td>M134</td>\n",
       "      <td>M</td>\n",
       "      <td>32</td>\n",
       "      <td>35.0</td>\n",
       "      <td>31.5</td>\n",
       "      <td>33.0</td>\n",
       "      <td>32.00</td>\n",
       "      <td>31.40</td>\n",
       "      <td>31.50</td>\n",
       "      <td>3.600076e+11</td>\n",
       "    </tr>\n",
       "    <tr>\n",
       "      <th>8</th>\n",
       "      <td>M137</td>\n",
       "      <td>M</td>\n",
       "      <td>32</td>\n",
       "      <td>28.5</td>\n",
       "      <td>23.8</td>\n",
       "      <td>24.7</td>\n",
       "      <td>21.00</td>\n",
       "      <td>22.14</td>\n",
       "      <td>22.02</td>\n",
       "      <td>3.600076e+11</td>\n",
       "    </tr>\n",
       "    <tr>\n",
       "      <th>9</th>\n",
       "      <td>M140</td>\n",
       "      <td>M</td>\n",
       "      <td>39</td>\n",
       "      <td>38.0</td>\n",
       "      <td>37.0</td>\n",
       "      <td>38.1</td>\n",
       "      <td>36.01</td>\n",
       "      <td>32.66</td>\n",
       "      <td>29.00</td>\n",
       "      <td>3.600076e+11</td>\n",
       "    </tr>\n",
       "    <tr>\n",
       "      <th>10</th>\n",
       "      <td>M142</td>\n",
       "      <td>M</td>\n",
       "      <td>46</td>\n",
       "      <td>41.0</td>\n",
       "      <td>41.0</td>\n",
       "      <td>38.0</td>\n",
       "      <td>38.50</td>\n",
       "      <td>39.51</td>\n",
       "      <td>36.00</td>\n",
       "      <td>3.600076e+11</td>\n",
       "    </tr>\n",
       "    <tr>\n",
       "      <th>11</th>\n",
       "      <td>M184</td>\n",
       "      <td>M</td>\n",
       "      <td>25</td>\n",
       "      <td>32.0</td>\n",
       "      <td>33.2</td>\n",
       "      <td>39.0</td>\n",
       "      <td>42.26</td>\n",
       "      <td>40.77</td>\n",
       "      <td>42.00</td>\n",
       "      <td>3.600076e+11</td>\n",
       "    </tr>\n",
       "  </tbody>\n",
       "</table>\n",
       "</div>"
      ],
      "text/plain": [
       "   BNLONG BOROUGH  CCDNUMFTE  2007_CCDNUMFTE  2008_CCDNUMFTE  2009_CCDNUMFTE  \\\n",
       "6    M110       M         44            37.0            34.0            35.9   \n",
       "7    M134       M         32            35.0            31.5            33.0   \n",
       "8    M137       M         32            28.5            23.8            24.7   \n",
       "9    M140       M         39            38.0            37.0            38.1   \n",
       "10   M142       M         46            41.0            41.0            38.0   \n",
       "11   M184       M         25            32.0            33.2            39.0   \n",
       "\n",
       "    2010_CCDNUMFTE  2011_CCDNUMFTE  2012_CCDNUMFTE       NCES_ID  \n",
       "6            35.01           34.82           33.01  3.600076e+11  \n",
       "7            32.00           31.40           31.50  3.600076e+11  \n",
       "8            21.00           22.14           22.02  3.600076e+11  \n",
       "9            36.01           32.66           29.00  3.600076e+11  \n",
       "10           38.50           39.51           36.00  3.600076e+11  \n",
       "11           42.26           40.77           42.00  3.600076e+11  "
      ]
     },
     "execution_count": 9,
     "metadata": {},
     "output_type": "execute_result"
    }
   ],
   "source": [
    "clean_SCHMA_data.head(6)"
   ]
  },
  {
   "cell_type": "markdown",
   "metadata": {},
   "source": [
    "Finally, we make BNLONG the index."
   ]
  },
  {
   "cell_type": "code",
   "execution_count": 10,
   "metadata": {
    "collapsed": false
   },
   "outputs": [
    {
     "ename": "TypeError",
     "evalue": "Index(...) must be called with a collection of some kind, 'BNLONG' was passed",
     "output_type": "error",
     "traceback": [
      "\u001b[0;31m---------------------------------------------------------------------------\u001b[0m",
      "\u001b[0;31mTypeError\u001b[0m                                 Traceback (most recent call last)",
      "\u001b[0;32m<ipython-input-10-9d2fce9cfd84>\u001b[0m in \u001b[0;36m<module>\u001b[0;34m()\u001b[0m\n\u001b[0;32m----> 1\u001b[0;31m \u001b[0mclean_SCHMA_data\u001b[0m\u001b[0;34m.\u001b[0m\u001b[0mreindex\u001b[0m\u001b[0;34m(\u001b[0m\u001b[0;34m'BNLONG'\u001b[0m\u001b[0;34m)\u001b[0m\u001b[0;34m\u001b[0m\u001b[0m\n\u001b[0m\u001b[1;32m      2\u001b[0m \u001b[0mclean_SCHMA_data\u001b[0m\u001b[0;34m.\u001b[0m\u001b[0mhead\u001b[0m\u001b[0;34m(\u001b[0m\u001b[0;36m6\u001b[0m\u001b[0;34m)\u001b[0m\u001b[0;34m\u001b[0m\u001b[0m\n",
      "\u001b[0;32m/Users/benjaminjakubowski/anaconda/lib/python2.7/site-packages/pandas/core/frame.pyc\u001b[0m in \u001b[0;36mreindex\u001b[0;34m(self, index, columns, **kwargs)\u001b[0m\n\u001b[1;32m   2509\u001b[0m     \u001b[0;32mdef\u001b[0m \u001b[0mreindex\u001b[0m\u001b[0;34m(\u001b[0m\u001b[0mself\u001b[0m\u001b[0;34m,\u001b[0m \u001b[0mindex\u001b[0m\u001b[0;34m=\u001b[0m\u001b[0mNone\u001b[0m\u001b[0;34m,\u001b[0m \u001b[0mcolumns\u001b[0m\u001b[0;34m=\u001b[0m\u001b[0mNone\u001b[0m\u001b[0;34m,\u001b[0m \u001b[0;34m**\u001b[0m\u001b[0mkwargs\u001b[0m\u001b[0;34m)\u001b[0m\u001b[0;34m:\u001b[0m\u001b[0;34m\u001b[0m\u001b[0m\n\u001b[1;32m   2510\u001b[0m         return super(DataFrame, self).reindex(index=index, columns=columns,\n\u001b[0;32m-> 2511\u001b[0;31m                                               **kwargs)\n\u001b[0m\u001b[1;32m   2512\u001b[0m \u001b[0;34m\u001b[0m\u001b[0m\n\u001b[1;32m   2513\u001b[0m     \u001b[0;34m@\u001b[0m\u001b[0mAppender\u001b[0m\u001b[0;34m(\u001b[0m\u001b[0m_shared_docs\u001b[0m\u001b[0;34m[\u001b[0m\u001b[0;34m'reindex_axis'\u001b[0m\u001b[0;34m]\u001b[0m \u001b[0;34m%\u001b[0m \u001b[0m_shared_doc_kwargs\u001b[0m\u001b[0;34m)\u001b[0m\u001b[0;34m\u001b[0m\u001b[0m\n",
      "\u001b[0;32m/Users/benjaminjakubowski/anaconda/lib/python2.7/site-packages/pandas/core/generic.pyc\u001b[0m in \u001b[0;36mreindex\u001b[0;34m(self, *args, **kwargs)\u001b[0m\n\u001b[1;32m   1771\u001b[0m         \u001b[0;31m# perform the reindex on the axes\u001b[0m\u001b[0;34m\u001b[0m\u001b[0;34m\u001b[0m\u001b[0m\n\u001b[1;32m   1772\u001b[0m         return self._reindex_axes(axes, level, limit,\n\u001b[0;32m-> 1773\u001b[0;31m                                   method, fill_value, copy).__finalize__(self)\n\u001b[0m\u001b[1;32m   1774\u001b[0m \u001b[0;34m\u001b[0m\u001b[0m\n\u001b[1;32m   1775\u001b[0m     \u001b[0;32mdef\u001b[0m \u001b[0m_reindex_axes\u001b[0m\u001b[0;34m(\u001b[0m\u001b[0mself\u001b[0m\u001b[0;34m,\u001b[0m \u001b[0maxes\u001b[0m\u001b[0;34m,\u001b[0m \u001b[0mlevel\u001b[0m\u001b[0;34m,\u001b[0m \u001b[0mlimit\u001b[0m\u001b[0;34m,\u001b[0m \u001b[0mmethod\u001b[0m\u001b[0;34m,\u001b[0m \u001b[0mfill_value\u001b[0m\u001b[0;34m,\u001b[0m \u001b[0mcopy\u001b[0m\u001b[0;34m)\u001b[0m\u001b[0;34m:\u001b[0m\u001b[0;34m\u001b[0m\u001b[0m\n",
      "\u001b[0;32m/Users/benjaminjakubowski/anaconda/lib/python2.7/site-packages/pandas/core/frame.pyc\u001b[0m in \u001b[0;36m_reindex_axes\u001b[0;34m(self, axes, level, limit, method, fill_value, copy)\u001b[0m\n\u001b[1;32m   2468\u001b[0m         \u001b[0;32mif\u001b[0m \u001b[0mindex\u001b[0m \u001b[0;32mis\u001b[0m \u001b[0;32mnot\u001b[0m \u001b[0mNone\u001b[0m\u001b[0;34m:\u001b[0m\u001b[0;34m\u001b[0m\u001b[0m\n\u001b[1;32m   2469\u001b[0m             frame = frame._reindex_index(index, method, copy, level,\n\u001b[0;32m-> 2470\u001b[0;31m                                          fill_value, limit)\n\u001b[0m\u001b[1;32m   2471\u001b[0m \u001b[0;34m\u001b[0m\u001b[0m\n\u001b[1;32m   2472\u001b[0m         \u001b[0;32mreturn\u001b[0m \u001b[0mframe\u001b[0m\u001b[0;34m\u001b[0m\u001b[0m\n",
      "\u001b[0;32m/Users/benjaminjakubowski/anaconda/lib/python2.7/site-packages/pandas/core/frame.pyc\u001b[0m in \u001b[0;36m_reindex_index\u001b[0;34m(self, new_index, method, copy, level, fill_value, limit)\u001b[0m\n\u001b[1;32m   2475\u001b[0m                        limit=None):\n\u001b[1;32m   2476\u001b[0m         new_index, indexer = self.index.reindex(new_index, method, level,\n\u001b[0;32m-> 2477\u001b[0;31m                                                 limit=limit)\n\u001b[0m\u001b[1;32m   2478\u001b[0m         return self._reindex_with_indexers({0: [new_index, indexer]},\n\u001b[1;32m   2479\u001b[0m                                            \u001b[0mcopy\u001b[0m\u001b[0;34m=\u001b[0m\u001b[0mcopy\u001b[0m\u001b[0;34m,\u001b[0m \u001b[0mfill_value\u001b[0m\u001b[0;34m=\u001b[0m\u001b[0mfill_value\u001b[0m\u001b[0;34m,\u001b[0m\u001b[0;34m\u001b[0m\u001b[0m\n",
      "\u001b[0;32m/Users/benjaminjakubowski/anaconda/lib/python2.7/site-packages/pandas/core/index.pyc\u001b[0m in \u001b[0;36mreindex\u001b[0;34m(self, target, method, level, limit)\u001b[0m\n\u001b[1;32m   1887\u001b[0m             \u001b[0mtarget\u001b[0m \u001b[0;34m=\u001b[0m \u001b[0mself\u001b[0m\u001b[0;34m.\u001b[0m\u001b[0m_simple_new\u001b[0m\u001b[0;34m(\u001b[0m\u001b[0mnp\u001b[0m\u001b[0;34m.\u001b[0m\u001b[0mempty\u001b[0m\u001b[0;34m(\u001b[0m\u001b[0;36m0\u001b[0m\u001b[0;34m,\u001b[0m \u001b[0mdtype\u001b[0m\u001b[0;34m=\u001b[0m\u001b[0mself\u001b[0m\u001b[0;34m.\u001b[0m\u001b[0mdtype\u001b[0m\u001b[0;34m)\u001b[0m\u001b[0;34m,\u001b[0m \u001b[0;34m**\u001b[0m\u001b[0mattrs\u001b[0m\u001b[0;34m)\u001b[0m\u001b[0;34m\u001b[0m\u001b[0m\n\u001b[1;32m   1888\u001b[0m         \u001b[0;32melse\u001b[0m\u001b[0;34m:\u001b[0m\u001b[0;34m\u001b[0m\u001b[0m\n\u001b[0;32m-> 1889\u001b[0;31m             \u001b[0mtarget\u001b[0m \u001b[0;34m=\u001b[0m \u001b[0m_ensure_index\u001b[0m\u001b[0;34m(\u001b[0m\u001b[0mtarget\u001b[0m\u001b[0;34m)\u001b[0m\u001b[0;34m\u001b[0m\u001b[0m\n\u001b[0m\u001b[1;32m   1890\u001b[0m \u001b[0;34m\u001b[0m\u001b[0m\n\u001b[1;32m   1891\u001b[0m         \u001b[0;32mif\u001b[0m \u001b[0mlevel\u001b[0m \u001b[0;32mis\u001b[0m \u001b[0;32mnot\u001b[0m \u001b[0mNone\u001b[0m\u001b[0;34m:\u001b[0m\u001b[0;34m\u001b[0m\u001b[0m\n",
      "\u001b[0;32m/Users/benjaminjakubowski/anaconda/lib/python2.7/site-packages/pandas/core/index.pyc\u001b[0m in \u001b[0;36m_ensure_index\u001b[0;34m(index_like, copy)\u001b[0m\n\u001b[1;32m   5702\u001b[0m             \u001b[0mindex_like\u001b[0m \u001b[0;34m=\u001b[0m \u001b[0mcopy\u001b[0m\u001b[0;34m(\u001b[0m\u001b[0mindex_like\u001b[0m\u001b[0;34m)\u001b[0m\u001b[0;34m\u001b[0m\u001b[0m\n\u001b[1;32m   5703\u001b[0m \u001b[0;34m\u001b[0m\u001b[0m\n\u001b[0;32m-> 5704\u001b[0;31m     \u001b[0;32mreturn\u001b[0m \u001b[0mIndex\u001b[0m\u001b[0;34m(\u001b[0m\u001b[0mindex_like\u001b[0m\u001b[0;34m)\u001b[0m\u001b[0;34m\u001b[0m\u001b[0m\n\u001b[0m\u001b[1;32m   5705\u001b[0m \u001b[0;34m\u001b[0m\u001b[0m\n\u001b[1;32m   5706\u001b[0m \u001b[0;34m\u001b[0m\u001b[0m\n",
      "\u001b[0;32m/Users/benjaminjakubowski/anaconda/lib/python2.7/site-packages/pandas/core/index.pyc\u001b[0m in \u001b[0;36m__new__\u001b[0;34m(cls, data, dtype, copy, name, fastpath, tupleize_cols, **kwargs)\u001b[0m\n\u001b[1;32m    162\u001b[0m                          **kwargs)\n\u001b[1;32m    163\u001b[0m         \u001b[0;32melif\u001b[0m \u001b[0mdata\u001b[0m \u001b[0;32mis\u001b[0m \u001b[0mNone\u001b[0m \u001b[0;32mor\u001b[0m \u001b[0mnp\u001b[0m\u001b[0;34m.\u001b[0m\u001b[0misscalar\u001b[0m\u001b[0;34m(\u001b[0m\u001b[0mdata\u001b[0m\u001b[0;34m)\u001b[0m\u001b[0;34m:\u001b[0m\u001b[0;34m\u001b[0m\u001b[0m\n\u001b[0;32m--> 164\u001b[0;31m             \u001b[0mcls\u001b[0m\u001b[0;34m.\u001b[0m\u001b[0m_scalar_data_error\u001b[0m\u001b[0;34m(\u001b[0m\u001b[0mdata\u001b[0m\u001b[0;34m)\u001b[0m\u001b[0;34m\u001b[0m\u001b[0m\n\u001b[0m\u001b[1;32m    165\u001b[0m         \u001b[0;32melse\u001b[0m\u001b[0;34m:\u001b[0m\u001b[0;34m\u001b[0m\u001b[0m\n\u001b[1;32m    166\u001b[0m             \u001b[0;32mif\u001b[0m \u001b[0mtupleize_cols\u001b[0m \u001b[0;32mand\u001b[0m \u001b[0misinstance\u001b[0m\u001b[0;34m(\u001b[0m\u001b[0mdata\u001b[0m\u001b[0;34m,\u001b[0m \u001b[0mlist\u001b[0m\u001b[0;34m)\u001b[0m \u001b[0;32mand\u001b[0m \u001b[0mdata\u001b[0m\u001b[0;34m:\u001b[0m\u001b[0;34m\u001b[0m\u001b[0m\n",
      "\u001b[0;32m/Users/benjaminjakubowski/anaconda/lib/python2.7/site-packages/pandas/core/index.pyc\u001b[0m in \u001b[0;36m_scalar_data_error\u001b[0;34m(cls, data)\u001b[0m\n\u001b[1;32m    302\u001b[0m         raise TypeError(\n\u001b[1;32m    303\u001b[0m             \u001b[0;34m'{0}(...) must be called with a collection of some kind, {1} was '\u001b[0m\u001b[0;34m\u001b[0m\u001b[0m\n\u001b[0;32m--> 304\u001b[0;31m             \u001b[0;34m'passed'\u001b[0m\u001b[0;34m.\u001b[0m\u001b[0mformat\u001b[0m\u001b[0;34m(\u001b[0m\u001b[0mcls\u001b[0m\u001b[0;34m.\u001b[0m\u001b[0m__name__\u001b[0m\u001b[0;34m,\u001b[0m \u001b[0mrepr\u001b[0m\u001b[0;34m(\u001b[0m\u001b[0mdata\u001b[0m\u001b[0;34m)\u001b[0m\u001b[0;34m)\u001b[0m\u001b[0;34m\u001b[0m\u001b[0m\n\u001b[0m\u001b[1;32m    305\u001b[0m         )\n\u001b[1;32m    306\u001b[0m \u001b[0;34m\u001b[0m\u001b[0m\n",
      "\u001b[0;31mTypeError\u001b[0m: Index(...) must be called with a collection of some kind, 'BNLONG' was passed"
     ]
    }
   ],
   "source": [
    "clean_SCHMA_data.reindex(['BNLONG'])\n",
    "clean_SCHMA_data.head(6)"
   ]
  },
  {
   "cell_type": "code",
   "execution_count": null,
   "metadata": {
    "collapsed": true
   },
   "outputs": [],
   "source": []
  }
 ],
 "metadata": {
  "kernelspec": {
   "display_name": "Python 2",
   "language": "python",
   "name": "python2"
  },
  "language_info": {
   "codemirror_mode": {
    "name": "ipython",
    "version": 2
   },
   "file_extension": ".py",
   "mimetype": "text/x-python",
   "name": "python",
   "nbconvert_exporter": "python",
   "pygments_lexer": "ipython2",
   "version": "2.7.10"
  }
 },
 "nbformat": 4,
 "nbformat_minor": 0
}
