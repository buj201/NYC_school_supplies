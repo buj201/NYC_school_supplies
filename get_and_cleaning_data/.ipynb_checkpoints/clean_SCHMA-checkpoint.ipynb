{
 "cells": [
  {
   "cell_type": "markdown",
   "metadata": {},
   "source": [
    "# Clean data from SCHMA\n",
    "\n",
    "In this notebook, we will clean data from the <a href=\"http://steinhardt.nyu.edu/research_alliance/research/schma\"> School-Level Master File</a>. This dataset is produced by the Research Alliance for New York City Schools at NYU. They describe it as follows:\n",
    "\n",
    "<i>The School-Level Master File (SCHMA) is a dataset developed by the Research Alliance for New York City Schools at New York University. To create the file, we compiled publicly available data from the New York City Department of Education (DOE) and the U.S. Department of Education. The result is a consistent, accessible document that can be used to investigate characteristics of individual New York City schools or groups of schools and how they have changed over time.</i>\n",
    "\n",
    "We will use the SCHMA to obtain each school's latitude and longitude (so we can create spatial plots)."
   ]
  },
  {
   "cell_type": "code",
   "execution_count": 2,
   "metadata": {
    "collapsed": false
   },
   "outputs": [],
   "source": [
    "import numpy as np\n",
    "import matplotlib.pyplot as plt\n",
    "import pandas as pd\n",
    "\n",
    "raw_SCHMA = pd.read_csv('../../data/SCHMA/schma19962013.csv', usecols=['YEAR', 'BNLONG','LCGGEOX','LCGGEOY'], low_memory=False)"
   ]
  },
  {
   "cell_type": "markdown",
   "metadata": {},
   "source": [
    "Next, drop all records not from 2006 to 2013."
   ]
  },
  {
   "cell_type": "code",
   "execution_count": 3,
   "metadata": {
    "collapsed": true
   },
   "outputs": [],
   "source": [
    "proc_SCHMA = raw_SCHMA.loc[(2006 <= raw_SCHMA.YEAR)]\n",
    "proc_SCHMA = proc_SCHMA.loc[(raw_SCHMA.YEAR <= 2012)]"
   ]
  },
  {
   "cell_type": "code",
   "execution_count": 4,
   "metadata": {
    "collapsed": false
   },
   "outputs": [
    {
     "data": {
      "text/html": [
       "<div>\n",
       "<table border=\"1\" class=\"dataframe\">\n",
       "  <thead>\n",
       "    <tr style=\"text-align: right;\">\n",
       "      <th></th>\n",
       "      <th>YEAR</th>\n",
       "      <th>LCGGEOX</th>\n",
       "      <th>LCGGEOY</th>\n",
       "    </tr>\n",
       "  </thead>\n",
       "  <tbody>\n",
       "    <tr>\n",
       "      <th>count</th>\n",
       "      <td>11035.000000</td>\n",
       "      <td>4651.000000</td>\n",
       "      <td>4651.000000</td>\n",
       "    </tr>\n",
       "    <tr>\n",
       "      <th>mean</th>\n",
       "      <td>2009.070322</td>\n",
       "      <td>-73.919906</td>\n",
       "      <td>40.735262</td>\n",
       "    </tr>\n",
       "    <tr>\n",
       "      <th>std</th>\n",
       "      <td>1.993860</td>\n",
       "      <td>0.080696</td>\n",
       "      <td>0.086100</td>\n",
       "    </tr>\n",
       "    <tr>\n",
       "      <th>min</th>\n",
       "      <td>2006.000000</td>\n",
       "      <td>-74.244100</td>\n",
       "      <td>40.508220</td>\n",
       "    </tr>\n",
       "    <tr>\n",
       "      <th>25%</th>\n",
       "      <td>2007.000000</td>\n",
       "      <td>-73.965100</td>\n",
       "      <td>40.672080</td>\n",
       "    </tr>\n",
       "    <tr>\n",
       "      <th>50%</th>\n",
       "      <td>2009.000000</td>\n",
       "      <td>-73.921400</td>\n",
       "      <td>40.726820</td>\n",
       "    </tr>\n",
       "    <tr>\n",
       "      <th>75%</th>\n",
       "      <td>2011.000000</td>\n",
       "      <td>-73.879500</td>\n",
       "      <td>40.817320</td>\n",
       "    </tr>\n",
       "    <tr>\n",
       "      <th>max</th>\n",
       "      <td>2012.000000</td>\n",
       "      <td>-73.709100</td>\n",
       "      <td>40.903530</td>\n",
       "    </tr>\n",
       "  </tbody>\n",
       "</table>\n",
       "</div>"
      ],
      "text/plain": [
       "               YEAR      LCGGEOX      LCGGEOY\n",
       "count  11035.000000  4651.000000  4651.000000\n",
       "mean    2009.070322   -73.919906    40.735262\n",
       "std        1.993860     0.080696     0.086100\n",
       "min     2006.000000   -74.244100    40.508220\n",
       "25%     2007.000000   -73.965100    40.672080\n",
       "50%     2009.000000   -73.921400    40.726820\n",
       "75%     2011.000000   -73.879500    40.817320\n",
       "max     2012.000000   -73.709100    40.903530"
      ]
     },
     "execution_count": 4,
     "metadata": {},
     "output_type": "execute_result"
    }
   ],
   "source": [
    "proc_SCHMA.describe()"
   ]
  },
  {
   "cell_type": "markdown",
   "metadata": {},
   "source": [
    "Note that the max and min values for all three fields are reasonable. Thus, we proceed by dropping missing records."
   ]
  },
  {
   "cell_type": "code",
   "execution_count": 5,
   "metadata": {
    "collapsed": false
   },
   "outputs": [
    {
     "data": {
      "text/plain": [
       "(4651, 4)"
      ]
     },
     "execution_count": 5,
     "metadata": {},
     "output_type": "execute_result"
    }
   ],
   "source": [
    "proc_SCHMA.dropna(inplace=True)\n",
    "proc_SCHMA.shape"
   ]
  },
  {
   "cell_type": "markdown",
   "metadata": {},
   "source": [
    "Let's see how many schools have latitudes and longitudes:"
   ]
  },
  {
   "cell_type": "code",
   "execution_count": 6,
   "metadata": {
    "collapsed": false
   },
   "outputs": [
    {
     "data": {
      "text/plain": [
       "1592"
      ]
     },
     "execution_count": 6,
     "metadata": {},
     "output_type": "execute_result"
    }
   ],
   "source": [
    "len(proc_SCHMA.BNLONG.unique())"
   ]
  },
  {
   "cell_type": "markdown",
   "metadata": {},
   "source": [
    "Thus, we have latitutde and longitudes for 1592 schools. Let's see how these are distributed across years:"
   ]
  },
  {
   "cell_type": "code",
   "execution_count": 7,
   "metadata": {
    "collapsed": false
   },
   "outputs": [
    {
     "data": {
      "text/plain": [
       "2012    1565\n",
       "2011    1555\n",
       "2010    1531\n",
       "dtype: int64"
      ]
     },
     "execution_count": 7,
     "metadata": {},
     "output_type": "execute_result"
    }
   ],
   "source": [
    "proc_SCHMA.YEAR.value_counts()"
   ]
  },
  {
   "cell_type": "markdown",
   "metadata": {},
   "source": [
    "It appears geographic coordinates are only available from 2010-2012, so in future analyses we'll limit our mapping to these three years. Finally, now that we've cleaned the data, let's save it:"
   ]
  },
  {
   "cell_type": "code",
   "execution_count": 8,
   "metadata": {
    "collapsed": false
   },
   "outputs": [],
   "source": [
    "proc_SCHMA.to_csv('../../data/clean_SCHMA.csv')"
   ]
  }
 ],
 "metadata": {
  "kernelspec": {
   "display_name": "Python 2",
   "language": "python",
   "name": "python2"
  },
  "language_info": {
   "codemirror_mode": {
    "name": "ipython",
    "version": 2
   },
   "file_extension": ".py",
   "mimetype": "text/x-python",
   "name": "python",
   "nbconvert_exporter": "python",
   "pygments_lexer": "ipython2",
   "version": "2.7.10"
  }
 },
 "nbformat": 4,
 "nbformat_minor": 0
}
