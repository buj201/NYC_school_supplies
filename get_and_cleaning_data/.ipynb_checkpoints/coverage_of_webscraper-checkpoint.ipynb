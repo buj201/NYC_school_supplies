{
 "cells": [
  {
   "cell_type": "markdown",
   "metadata": {},
   "source": [
    "# Checking coverage of web scraped data collection.\n",
    "\n",
    "In this notebook, we check that our webscraper captured all available data. Specifically, we compare the list of DBN's by years from the Demographics and Accountability snapshot to the DBN/years in our webscraped datasets."
   ]
  },
  {
   "cell_type": "code",
   "execution_count": 1,
   "metadata": {
    "collapsed": false
   },
   "outputs": [
    {
     "ename": "IOError",
     "evalue": "File all_school_expenditures_by_year/year_2006.csv does not exist",
     "output_type": "error",
     "traceback": [
      "\u001b[0;31m---------------------------------------------------------------------------\u001b[0m",
      "\u001b[0;31mIOError\u001b[0m                                   Traceback (most recent call last)",
      "\u001b[0;32m<ipython-input-1-1804b9360832>\u001b[0m in \u001b[0;36m<module>\u001b[0;34m()\u001b[0m\n\u001b[1;32m      1\u001b[0m \u001b[0;32mimport\u001b[0m \u001b[0mpandas\u001b[0m \u001b[0;32mas\u001b[0m \u001b[0mpd\u001b[0m\u001b[0;34m\u001b[0m\u001b[0m\n\u001b[1;32m      2\u001b[0m \u001b[0;34m\u001b[0m\u001b[0m\n\u001b[0;32m----> 3\u001b[0;31m \u001b[0mdata_2006\u001b[0m \u001b[0;34m=\u001b[0m \u001b[0mpd\u001b[0m\u001b[0;34m.\u001b[0m\u001b[0mread_csv\u001b[0m\u001b[0;34m(\u001b[0m\u001b[0;34m'all_school_expenditures_by_year/year_2006.csv'\u001b[0m\u001b[0;34m,\u001b[0m \u001b[0mindex_col\u001b[0m\u001b[0;34m=\u001b[0m\u001b[0;36m0\u001b[0m\u001b[0;34m)\u001b[0m\u001b[0;34m\u001b[0m\u001b[0m\n\u001b[0m\u001b[1;32m      4\u001b[0m \u001b[0mdata_2007\u001b[0m \u001b[0;34m=\u001b[0m \u001b[0mpd\u001b[0m\u001b[0;34m.\u001b[0m\u001b[0mread_csv\u001b[0m\u001b[0;34m(\u001b[0m\u001b[0;34m'all_school_expenditures_by_year/year_2007.csv'\u001b[0m\u001b[0;34m,\u001b[0m \u001b[0mindex_col\u001b[0m\u001b[0;34m=\u001b[0m\u001b[0;36m0\u001b[0m\u001b[0;34m)\u001b[0m\u001b[0;34m\u001b[0m\u001b[0m\n\u001b[1;32m      5\u001b[0m \u001b[0mdata_2008\u001b[0m \u001b[0;34m=\u001b[0m \u001b[0mpd\u001b[0m\u001b[0;34m.\u001b[0m\u001b[0mread_csv\u001b[0m\u001b[0;34m(\u001b[0m\u001b[0;34m'all_school_expenditures_by_year/year_2008.csv'\u001b[0m\u001b[0;34m,\u001b[0m \u001b[0mindex_col\u001b[0m\u001b[0;34m=\u001b[0m\u001b[0;36m0\u001b[0m\u001b[0;34m)\u001b[0m\u001b[0;34m\u001b[0m\u001b[0m\n",
      "\u001b[0;32m/Users/benjaminjakubowski/anaconda/lib/python2.7/site-packages/pandas/io/parsers.pyc\u001b[0m in \u001b[0;36mparser_f\u001b[0;34m(filepath_or_buffer, sep, dialect, compression, doublequote, escapechar, quotechar, quoting, skipinitialspace, lineterminator, header, index_col, names, prefix, skiprows, skipfooter, skip_footer, na_values, na_fvalues, true_values, false_values, delimiter, converters, dtype, usecols, engine, delim_whitespace, as_recarray, na_filter, compact_ints, use_unsigned, low_memory, buffer_lines, warn_bad_lines, error_bad_lines, keep_default_na, thousands, comment, decimal, parse_dates, keep_date_col, dayfirst, date_parser, memory_map, float_precision, nrows, iterator, chunksize, verbose, encoding, squeeze, mangle_dupe_cols, tupleize_cols, infer_datetime_format, skip_blank_lines)\u001b[0m\n\u001b[1;32m    472\u001b[0m                     skip_blank_lines=skip_blank_lines)\n\u001b[1;32m    473\u001b[0m \u001b[0;34m\u001b[0m\u001b[0m\n\u001b[0;32m--> 474\u001b[0;31m         \u001b[0;32mreturn\u001b[0m \u001b[0m_read\u001b[0m\u001b[0;34m(\u001b[0m\u001b[0mfilepath_or_buffer\u001b[0m\u001b[0;34m,\u001b[0m \u001b[0mkwds\u001b[0m\u001b[0;34m)\u001b[0m\u001b[0;34m\u001b[0m\u001b[0m\n\u001b[0m\u001b[1;32m    475\u001b[0m \u001b[0;34m\u001b[0m\u001b[0m\n\u001b[1;32m    476\u001b[0m     \u001b[0mparser_f\u001b[0m\u001b[0;34m.\u001b[0m\u001b[0m__name__\u001b[0m \u001b[0;34m=\u001b[0m \u001b[0mname\u001b[0m\u001b[0;34m\u001b[0m\u001b[0m\n",
      "\u001b[0;32m/Users/benjaminjakubowski/anaconda/lib/python2.7/site-packages/pandas/io/parsers.pyc\u001b[0m in \u001b[0;36m_read\u001b[0;34m(filepath_or_buffer, kwds)\u001b[0m\n\u001b[1;32m    248\u001b[0m \u001b[0;34m\u001b[0m\u001b[0m\n\u001b[1;32m    249\u001b[0m     \u001b[0;31m# Create the parser.\u001b[0m\u001b[0;34m\u001b[0m\u001b[0;34m\u001b[0m\u001b[0m\n\u001b[0;32m--> 250\u001b[0;31m     \u001b[0mparser\u001b[0m \u001b[0;34m=\u001b[0m \u001b[0mTextFileReader\u001b[0m\u001b[0;34m(\u001b[0m\u001b[0mfilepath_or_buffer\u001b[0m\u001b[0;34m,\u001b[0m \u001b[0;34m**\u001b[0m\u001b[0mkwds\u001b[0m\u001b[0;34m)\u001b[0m\u001b[0;34m\u001b[0m\u001b[0m\n\u001b[0m\u001b[1;32m    251\u001b[0m \u001b[0;34m\u001b[0m\u001b[0m\n\u001b[1;32m    252\u001b[0m     \u001b[0;32mif\u001b[0m \u001b[0;34m(\u001b[0m\u001b[0mnrows\u001b[0m \u001b[0;32mis\u001b[0m \u001b[0;32mnot\u001b[0m \u001b[0mNone\u001b[0m\u001b[0;34m)\u001b[0m \u001b[0;32mand\u001b[0m \u001b[0;34m(\u001b[0m\u001b[0mchunksize\u001b[0m \u001b[0;32mis\u001b[0m \u001b[0;32mnot\u001b[0m \u001b[0mNone\u001b[0m\u001b[0;34m)\u001b[0m\u001b[0;34m:\u001b[0m\u001b[0;34m\u001b[0m\u001b[0m\n",
      "\u001b[0;32m/Users/benjaminjakubowski/anaconda/lib/python2.7/site-packages/pandas/io/parsers.pyc\u001b[0m in \u001b[0;36m__init__\u001b[0;34m(self, f, engine, **kwds)\u001b[0m\n\u001b[1;32m    564\u001b[0m             \u001b[0mself\u001b[0m\u001b[0;34m.\u001b[0m\u001b[0moptions\u001b[0m\u001b[0;34m[\u001b[0m\u001b[0;34m'has_index_names'\u001b[0m\u001b[0;34m]\u001b[0m \u001b[0;34m=\u001b[0m \u001b[0mkwds\u001b[0m\u001b[0;34m[\u001b[0m\u001b[0;34m'has_index_names'\u001b[0m\u001b[0;34m]\u001b[0m\u001b[0;34m\u001b[0m\u001b[0m\n\u001b[1;32m    565\u001b[0m \u001b[0;34m\u001b[0m\u001b[0m\n\u001b[0;32m--> 566\u001b[0;31m         \u001b[0mself\u001b[0m\u001b[0;34m.\u001b[0m\u001b[0m_make_engine\u001b[0m\u001b[0;34m(\u001b[0m\u001b[0mself\u001b[0m\u001b[0;34m.\u001b[0m\u001b[0mengine\u001b[0m\u001b[0;34m)\u001b[0m\u001b[0;34m\u001b[0m\u001b[0m\n\u001b[0m\u001b[1;32m    567\u001b[0m \u001b[0;34m\u001b[0m\u001b[0m\n\u001b[1;32m    568\u001b[0m     \u001b[0;32mdef\u001b[0m \u001b[0m_get_options_with_defaults\u001b[0m\u001b[0;34m(\u001b[0m\u001b[0mself\u001b[0m\u001b[0;34m,\u001b[0m \u001b[0mengine\u001b[0m\u001b[0;34m)\u001b[0m\u001b[0;34m:\u001b[0m\u001b[0;34m\u001b[0m\u001b[0m\n",
      "\u001b[0;32m/Users/benjaminjakubowski/anaconda/lib/python2.7/site-packages/pandas/io/parsers.pyc\u001b[0m in \u001b[0;36m_make_engine\u001b[0;34m(self, engine)\u001b[0m\n\u001b[1;32m    703\u001b[0m     \u001b[0;32mdef\u001b[0m \u001b[0m_make_engine\u001b[0m\u001b[0;34m(\u001b[0m\u001b[0mself\u001b[0m\u001b[0;34m,\u001b[0m \u001b[0mengine\u001b[0m\u001b[0;34m=\u001b[0m\u001b[0;34m'c'\u001b[0m\u001b[0;34m)\u001b[0m\u001b[0;34m:\u001b[0m\u001b[0;34m\u001b[0m\u001b[0m\n\u001b[1;32m    704\u001b[0m         \u001b[0;32mif\u001b[0m \u001b[0mengine\u001b[0m \u001b[0;34m==\u001b[0m \u001b[0;34m'c'\u001b[0m\u001b[0;34m:\u001b[0m\u001b[0;34m\u001b[0m\u001b[0m\n\u001b[0;32m--> 705\u001b[0;31m             \u001b[0mself\u001b[0m\u001b[0;34m.\u001b[0m\u001b[0m_engine\u001b[0m \u001b[0;34m=\u001b[0m \u001b[0mCParserWrapper\u001b[0m\u001b[0;34m(\u001b[0m\u001b[0mself\u001b[0m\u001b[0;34m.\u001b[0m\u001b[0mf\u001b[0m\u001b[0;34m,\u001b[0m \u001b[0;34m**\u001b[0m\u001b[0mself\u001b[0m\u001b[0;34m.\u001b[0m\u001b[0moptions\u001b[0m\u001b[0;34m)\u001b[0m\u001b[0;34m\u001b[0m\u001b[0m\n\u001b[0m\u001b[1;32m    706\u001b[0m         \u001b[0;32melse\u001b[0m\u001b[0;34m:\u001b[0m\u001b[0;34m\u001b[0m\u001b[0m\n\u001b[1;32m    707\u001b[0m             \u001b[0;32mif\u001b[0m \u001b[0mengine\u001b[0m \u001b[0;34m==\u001b[0m \u001b[0;34m'python'\u001b[0m\u001b[0;34m:\u001b[0m\u001b[0;34m\u001b[0m\u001b[0m\n",
      "\u001b[0;32m/Users/benjaminjakubowski/anaconda/lib/python2.7/site-packages/pandas/io/parsers.pyc\u001b[0m in \u001b[0;36m__init__\u001b[0;34m(self, src, **kwds)\u001b[0m\n\u001b[1;32m   1070\u001b[0m         \u001b[0mkwds\u001b[0m\u001b[0;34m[\u001b[0m\u001b[0;34m'allow_leading_cols'\u001b[0m\u001b[0;34m]\u001b[0m \u001b[0;34m=\u001b[0m \u001b[0mself\u001b[0m\u001b[0;34m.\u001b[0m\u001b[0mindex_col\u001b[0m \u001b[0;32mis\u001b[0m \u001b[0;32mnot\u001b[0m \u001b[0mFalse\u001b[0m\u001b[0;34m\u001b[0m\u001b[0m\n\u001b[1;32m   1071\u001b[0m \u001b[0;34m\u001b[0m\u001b[0m\n\u001b[0;32m-> 1072\u001b[0;31m         \u001b[0mself\u001b[0m\u001b[0;34m.\u001b[0m\u001b[0m_reader\u001b[0m \u001b[0;34m=\u001b[0m \u001b[0m_parser\u001b[0m\u001b[0;34m.\u001b[0m\u001b[0mTextReader\u001b[0m\u001b[0;34m(\u001b[0m\u001b[0msrc\u001b[0m\u001b[0;34m,\u001b[0m \u001b[0;34m**\u001b[0m\u001b[0mkwds\u001b[0m\u001b[0;34m)\u001b[0m\u001b[0;34m\u001b[0m\u001b[0m\n\u001b[0m\u001b[1;32m   1073\u001b[0m \u001b[0;34m\u001b[0m\u001b[0m\n\u001b[1;32m   1074\u001b[0m         \u001b[0;31m# XXX\u001b[0m\u001b[0;34m\u001b[0m\u001b[0;34m\u001b[0m\u001b[0m\n",
      "\u001b[0;32mpandas/parser.pyx\u001b[0m in \u001b[0;36mpandas.parser.TextReader.__cinit__ (pandas/parser.c:3173)\u001b[0;34m()\u001b[0m\n",
      "\u001b[0;32mpandas/parser.pyx\u001b[0m in \u001b[0;36mpandas.parser.TextReader._setup_parser_source (pandas/parser.c:5912)\u001b[0;34m()\u001b[0m\n",
      "\u001b[0;31mIOError\u001b[0m: File all_school_expenditures_by_year/year_2006.csv does not exist"
     ]
    }
   ],
   "source": [
    "import pandas as pd\n",
    "\n",
    "data_2006 = pd.read_csv('raw_school_expenditures_by_year/year_2006.csv', index_col=0)\n",
    "data_2007 = pd.read_csv('raw_school_expenditures_by_year/year_2007.csv', index_col=0)\n",
    "data_2008 = pd.read_csv('raw_school_expenditures_by_year/year_2008.csv', index_col=0)\n",
    "data_2009 = pd.read_csv('raw_school_expenditures_by_year/year_2009.csv', index_col=0)\n",
    "data_2010 = pd.read_csv('raw_school_expenditures_by_year/year_2010.csv', index_col=0)\n",
    "data_2011 = pd.read_csv('raw_school_expenditures_by_year/year_2011.csv', index_col=0)\n",
    "data_2012 = pd.read_csv('raw_school_expenditures_by_year/year_2012.csv', index_col=0)"
   ]
  },
  {
   "cell_type": "code",
   "execution_count": 48,
   "metadata": {
    "collapsed": false
   },
   "outputs": [],
   "source": [
    "datasets= {2006:data_2006,2007:data_2007,2008:data_2008,2009:data_2009,2010:data_2010,2011:data_2011, 2012:data_2012}"
   ]
  },
  {
   "cell_type": "code",
   "execution_count": 49,
   "metadata": {
    "collapsed": true
   },
   "outputs": [],
   "source": [
    "def school_dbn_list():\n",
    "    query = 'https://nycopendata.socrata.com/api/views/ihfw-zy9j/rows.csv?accessType=DOWNLOAD'\n",
    "    Demo_and_Account = pd.read_csv(query)\n",
    "    all_DBNs = Demo_and_Account[['DBN','schoolyear']]\n",
    "    return all_DBNs"
   ]
  },
  {
   "cell_type": "code",
   "execution_count": 50,
   "metadata": {
    "collapsed": false
   },
   "outputs": [],
   "source": [
    "all_DBNs = school_dbn_list()"
   ]
  },
  {
   "cell_type": "code",
   "execution_count": 51,
   "metadata": {
    "collapsed": false
   },
   "outputs": [],
   "source": [
    "all_DBNs['schoolyear'] = all_DBNs['schoolyear'].map(lambda x: str(x)[4:])\n",
    "all_DBNs['DBN'] = all_DBNs['DBN'].map(lambda x: str(x)[2:])\n",
    "grouped = all_DBNs.groupby('schoolyear')"
   ]
  },
  {
   "cell_type": "code",
   "execution_count": 55,
   "metadata": {
    "collapsed": false
   },
   "outputs": [
    {
     "name": "stdout",
     "output_type": "stream",
     "text": [
      "Year 2006 has 9 missing school.\n",
      "Year 2007 has 20 missing school.\n",
      "Year 2008 has 19 missing school.\n",
      "Year 2009 has 4 missing school.\n",
      "Year 2010 has 3 missing school.\n",
      "Year 2011 has 1 missing school.\n",
      "Year 2012 has 1 missing school.\n"
     ]
    }
   ],
   "source": [
    "for year in range(2006,2013):\n",
    "    print 'Year {} has {} missing school.'.format(year, (all_DBNs.loc[grouped.groups[str(year)],'DBN'].count()-datasets[year].shape[0]))"
   ]
  },
  {
   "cell_type": "code",
   "execution_count": 56,
   "metadata": {
    "collapsed": false
   },
   "outputs": [
    {
     "name": "stdout",
     "output_type": "stream",
     "text": [
      "{2006: ['X191', 'X512', 'X234', 'M099', 'M277', 'K564', 'K418', 'M551', 'K378'], 2007: ['M090', 'K480', 'X222', 'X512', 'M445', 'K470', 'X143', 'M277', 'M164', 'K659', 'K564', 'Q180', 'K440', 'K418', 'M275', 'K391', 'X435', 'M551', 'M535', 'X344'], 2008: ['Q420', 'M277', 'X512', 'X158', 'K469', 'K640', 'X184', 'X239', 'K033', 'K659', 'K564', 'X113', 'K435', 'K418', 'M839', 'K390', 'M462', 'M551', 'K479'], 2009: ['M551', 'X512', 'K564', 'K418'], 2010: ['M551', 'K564', 'K418'], 2011: ['K564', 'K418'], 2012: ['K564', 'K418']}\n"
     ]
    }
   ],
   "source": [
    "missed_schools = {}\n",
    "for year in range(2006,2013):\n",
    "    DBN_targets = all_DBNs.loc[grouped.groups[str(year)],'DBN']\n",
    "    missing = list(set(DBN_targets) - set(datasets[year].index))\n",
    "    missed_schools[year] = missing\n",
    "print missed_schools"
   ]
  },
  {
   "cell_type": "code",
   "execution_count": 57,
   "metadata": {
    "collapsed": false
   },
   "outputs": [],
   "source": [
    "from urllib2 import urlopen, HTTPError, URLError\n",
    "from lxml.html import parse\n",
    "import re\n",
    "import pandas as pd\n",
    "import numpy as np\n",
    "from retrying import retry\n",
    "\n",
    "## define helper function hexencode to handle special characters in school name\n",
    "def hexencode(matchobj):\n",
    "    encoded = '%' + matchobj.group(0).encode('hex')\n",
    "    return encoded\n",
    "\n",
    "def retry_if_URL_error_not_HTTP_error(exception):\n",
    "    '''Return True if we should retry (in this case when it's a URLError (i.e. network is down) and not an\n",
    "    HTTPError (i.e. page doesn't exist)'''\n",
    "    return (isinstance(exception, URLError) and not isinstance(exception, HTTPError))\n",
    "            \n",
    "##Retry decorator will retry every two seconds, for up to 10 seconds, if server side error\n",
    " \n",
    "@retry(retry_on_exception=retry_if_URL_error_not_HTTP_error, wait_fixed=2000, stop_max_delay=10000)\n",
    "def get_school_name_from_year_and_DBN(year, DBN):\n",
    "\n",
    "    ##build initial query using year and DBN\n",
    "    years = str(year-1) + '_' + str(year)\n",
    "    query1 = (\"https://www.nycenet.edu/offices/d_chanc_oper/budget/exp01/y\" + years +\n",
    "             \"/function.asp?district=All&search=\" + DBN +\n",
    "             \"&searchgo=Search&LCMS=**&GRANT=NO&cr1=All&cr2=All&cr3=All&cr4=All&R=1&prior=search\")\n",
    "    \n",
    "    ##get school name by searching html page returned from query- if not found, return None.\n",
    "    try:\n",
    "        parsed1 = parse(urlopen(query1))\n",
    "        doc=parsed1.getroot()\n",
    "        options = doc.findall('.//option')\n",
    "        \n",
    "        print_next=False\n",
    "        for option in options:\n",
    "            if 'No Schools Found' in option.text_content():\n",
    "                print option.text_content()\n",
    "                return None\n",
    "                \n",
    "            elif 'School List' in option.text_content():\n",
    "                print_next=True ##Then the next option includes the school name\n",
    "                continue\n",
    "                \n",
    "            if print_next==True: ##So print it\n",
    "                print option.text_content()\n",
    "                print_next=False\n",
    "            \n",
    "            ##Schools in districts 1-32\n",
    "            if re.match('District', option.text_content()):\n",
    "                school_name = option.text_content()\n",
    "                school_name = re.sub('--','',school_name)\n",
    "                school_name = re.sub('District:\\s','', school_name)\n",
    "                school_name = re.sub('\\s','+', school_name)\n",
    "                school_name = re.sub('[^A-Za-z0-9\\s+.]', hexencode, school_name)\n",
    "                school_name = str(DBN) + school_name\n",
    "                return school_name\n",
    "            \n",
    "            ##Schools in district 75- citywide special education\n",
    "            elif re.match('Citywide', option.text_content()):\n",
    "                school_name = option.text_content()\n",
    "                school_name = re.split('--',school_name)[1]\n",
    "                school_name = re.sub('\\s','+',school_name)\n",
    "                school_name = re.sub('\\.\\+?','+',school_name)\n",
    "                ##Note even though it's district 75, it's coded as 97 in the url\n",
    "                school_name = str(DBN) + str(97) + str(school_name)\n",
    "                school_name = re.sub('[^A-Za-z0-9\\s+.]', hexencode, school_name)\n",
    "                return school_name \n",
    "            \n",
    "            ##Schools in district 79- alternative HS's\n",
    "            elif re.match('Alternative HS', option.text_content()):\n",
    "                school_name = option.text_content()\n",
    "                school_name = re.split('--',school_name)[1]\n",
    "                school_name = re.sub('\\s+','+',school_name)\n",
    "                school_name = str(DBN) + str(79) + str(school_name)\n",
    "                school_name = re.sub('[^A-Za-z0-9\\s+.]', hexencode, school_name)\n",
    "                return school_name\n",
    "            \n",
    "    except HTTPError as e:\n",
    "        print e\n",
    "        return None\n",
    "    \n",
    "    except URLError as y:\n",
    "        print y\n",
    "        return None\n",
    "    \n",
    "    except URLError as y:\n",
    "        print y\n",
    "        return None"
   ]
  },
  {
   "cell_type": "code",
   "execution_count": 59,
   "metadata": {
    "collapsed": false
   },
   "outputs": [
    {
     "name": "stdout",
     "output_type": "stream",
     "text": [
      "\n",
      "\n",
      "Year =  2006\n",
      "Search Results -- No Schools Found.\n",
      "Search Results -- No Schools Found.\n",
      "Search Results -- No Schools Found.\n",
      "Search Results -- No Schools Found.\n",
      "Search Results -- No Schools Found.\n",
      "District: 32--BUSHWICK COMMUNITY HIGH SCHOOL                    \n",
      "Search Results -- No Schools Found.\n",
      "Search Results -- No Schools Found.\n",
      "Search Results -- No Schools Found.\n",
      "\n",
      "\n",
      "Year =  2007\n",
      "Search Results -- No Schools Found.\n",
      "Search Results -- No Schools Found.\n",
      "Search Results -- No Schools Found.\n",
      "Search Results -- No Schools Found.\n",
      "Search Results -- No Schools Found.\n",
      "Search Results -- No Schools Found.\n",
      "Search Results -- No Schools Found.\n",
      "Search Results -- No Schools Found.\n",
      "Search Results -- No Schools Found.\n",
      "Search Results -- No Schools Found.\n",
      "District: 32--BUSHWICK COMMUNITY HIGH SCHOOL                    \n",
      "Search Results -- No Schools Found.\n",
      "Search Results -- No Schools Found.\n",
      "Search Results -- No Schools Found.\n",
      "Search Results -- No Schools Found.\n",
      "Search Results -- No Schools Found.\n",
      "Search Results -- No Schools Found.\n",
      "Search Results -- No Schools Found.\n",
      "Search Results -- No Schools Found.\n",
      "Search Results -- No Schools Found.\n",
      "\n",
      "\n",
      "Year =  2008\n",
      "Search Results -- No Schools Found.\n",
      "Search Results -- No Schools Found.\n",
      "Search Results -- No Schools Found.\n",
      "Search Results -- No Schools Found.\n",
      "Search Results -- No Schools Found.\n",
      "Search Results -- No Schools Found.\n",
      "Search Results -- No Schools Found.\n",
      "District: 09--Urban Assembly Academy for History and Citizenship\n",
      "Search Results -- No Schools Found.\n",
      "Search Results -- No Schools Found.\n",
      "District: 32--Bushwick Community High School                    \n",
      "Search Results -- No Schools Found.\n",
      "Search Results -- No Schools Found.\n",
      "Search Results -- No Schools Found.\n",
      "District: 01--Tompkins Square Middle School                     \n",
      "Search Results -- No Schools Found.\n",
      "District: 06--High School for International Business and Finance\n",
      "Search Results -- No Schools Found.\n",
      "Search Results -- No Schools Found.\n",
      "\n",
      "\n",
      "Year =  2009\n",
      "Search Results -- No Schools Found.\n",
      "Search Results -- No Schools Found.\n",
      "District: 32--Bushwick Community High School\n",
      "Search Results -- No Schools Found.\n",
      "\n",
      "\n",
      "Year =  2010\n",
      "Search Results -- No Schools Found.\n",
      "District: 32--Bushwick Community High School\n",
      "Search Results -- No Schools Found.\n",
      "\n",
      "\n",
      "Year =  2011\n",
      "District: 32--BUSHWICK COMMUNITY HIGH SCHOOL\n",
      "Search Results -- No Schools Found.\n",
      "\n",
      "\n",
      "Year =  2012\n",
      "District: 32--Bushwick Community High School\n",
      "Search Results -- No Schools Found.\n"
     ]
    }
   ],
   "source": [
    "results = {}\n",
    "for year in missed_schools:\n",
    "    print '\\n'\n",
    "    print 'Year = ', year\n",
    "    for school in missed_schools[year]:\n",
    "        get_school_name_from_year_and_DBN(year, school)"
   ]
  }
 ],
 "metadata": {
  "kernelspec": {
   "display_name": "Python 2",
   "language": "python",
   "name": "python2"
  },
  "language_info": {
   "codemirror_mode": {
    "name": "ipython",
    "version": 2
   },
   "file_extension": ".py",
   "mimetype": "text/x-python",
   "name": "python",
   "nbconvert_exporter": "python",
   "pygments_lexer": "ipython2",
   "version": "2.7.10"
  }
 },
 "nbformat": 4,
 "nbformat_minor": 0
}
