{
 "cells": [
  {
   "cell_type": "markdown",
   "metadata": {},
   "source": [
    "# Get and clean School Demo. and Accountability Snapshot (2006-2012)\n",
    "\n",
    "In this notebook, we get and clean the school demographics and accountability snapshot, 2006-2012. First, we read in the data from NYC Open Data. Then we:\n",
    "1. Clean the data.\n",
    "2. Assessing the comparability of free lunch and free and reduced lunch percent features.\n",
    "3. Plot the distributions of several features in the snapshot."
   ]
  },
  {
   "cell_type": "code",
   "execution_count": 45,
   "metadata": {
    "collapsed": true
   },
   "outputs": [],
   "source": [
    "import numpy as np\n",
    "import matplotlib.pyplot as plt\n",
    "import pandas as pd\n",
    "import re\n",
    "\n",
    "query = 'https://data.cityofnewyork.us/api/views/ihfw-zy9j/rows.csv?accessType=DOWNLOAD'\n",
    "demo_and_account = pd.read_csv(query)"
   ]
  },
  {
   "cell_type": "markdown",
   "metadata": {},
   "source": [
    "Before we proceed, lets take a quick look at the dataset:"
   ]
  },
  {
   "cell_type": "code",
   "execution_count": 46,
   "metadata": {
    "collapsed": false
   },
   "outputs": [
    {
     "data": {
      "text/html": [
       "<div>\n",
       "<table border=\"1\" class=\"dataframe\">\n",
       "  <thead>\n",
       "    <tr style=\"text-align: right;\">\n",
       "      <th></th>\n",
       "      <th>DBN</th>\n",
       "      <th>Name</th>\n",
       "      <th>schoolyear</th>\n",
       "      <th>fl_percent</th>\n",
       "      <th>frl_percent</th>\n",
       "      <th>total_enrollment</th>\n",
       "      <th>prek</th>\n",
       "      <th>k</th>\n",
       "      <th>grade1</th>\n",
       "      <th>grade2</th>\n",
       "      <th>grade3</th>\n",
       "      <th>grade4</th>\n",
       "      <th>grade5</th>\n",
       "      <th>grade6</th>\n",
       "      <th>grade7</th>\n",
       "      <th>grade8</th>\n",
       "      <th>grade9</th>\n",
       "      <th>grade10</th>\n",
       "      <th>grade11</th>\n",
       "      <th>grade12</th>\n",
       "      <th>ell_num</th>\n",
       "      <th>ell_percent</th>\n",
       "      <th>sped_num</th>\n",
       "      <th>sped_percent</th>\n",
       "      <th>ctt_num</th>\n",
       "      <th>selfcontained_num</th>\n",
       "      <th>asian_num</th>\n",
       "      <th>asian_per</th>\n",
       "      <th>black_num</th>\n",
       "      <th>black_per</th>\n",
       "      <th>hispanic_num</th>\n",
       "      <th>hispanic_per</th>\n",
       "      <th>white_num</th>\n",
       "      <th>white_per</th>\n",
       "      <th>male_num</th>\n",
       "      <th>male_per</th>\n",
       "      <th>female_num</th>\n",
       "      <th>female_per</th>\n",
       "    </tr>\n",
       "  </thead>\n",
       "  <tbody>\n",
       "    <tr>\n",
       "      <th>0</th>\n",
       "      <td>01M015</td>\n",
       "      <td>P.S. 015 ROBERTO CLEMENTE</td>\n",
       "      <td>20052006</td>\n",
       "      <td>89.4</td>\n",
       "      <td>NaN</td>\n",
       "      <td>281</td>\n",
       "      <td>15</td>\n",
       "      <td>36</td>\n",
       "      <td>40</td>\n",
       "      <td>33</td>\n",
       "      <td>38</td>\n",
       "      <td>52</td>\n",
       "      <td>29</td>\n",
       "      <td>38</td>\n",
       "      <td>NaN</td>\n",
       "      <td>NaN</td>\n",
       "      <td>NaN</td>\n",
       "      <td>NaN</td>\n",
       "      <td>NaN</td>\n",
       "      <td>NaN</td>\n",
       "      <td>36</td>\n",
       "      <td>12.8</td>\n",
       "      <td>57</td>\n",
       "      <td>20.3</td>\n",
       "      <td>25</td>\n",
       "      <td>9</td>\n",
       "      <td>10</td>\n",
       "      <td>3.6</td>\n",
       "      <td>74</td>\n",
       "      <td>26.3</td>\n",
       "      <td>189</td>\n",
       "      <td>67.3</td>\n",
       "      <td>5</td>\n",
       "      <td>1.8</td>\n",
       "      <td>158</td>\n",
       "      <td>56.2</td>\n",
       "      <td>123</td>\n",
       "      <td>43.8</td>\n",
       "    </tr>\n",
       "    <tr>\n",
       "      <th>1</th>\n",
       "      <td>01M015</td>\n",
       "      <td>P.S. 015 ROBERTO CLEMENTE</td>\n",
       "      <td>20062007</td>\n",
       "      <td>89.4</td>\n",
       "      <td>NaN</td>\n",
       "      <td>243</td>\n",
       "      <td>15</td>\n",
       "      <td>29</td>\n",
       "      <td>39</td>\n",
       "      <td>38</td>\n",
       "      <td>34</td>\n",
       "      <td>42</td>\n",
       "      <td>46</td>\n",
       "      <td>NaN</td>\n",
       "      <td>NaN</td>\n",
       "      <td>NaN</td>\n",
       "      <td>NaN</td>\n",
       "      <td>NaN</td>\n",
       "      <td>NaN</td>\n",
       "      <td>NaN</td>\n",
       "      <td>38</td>\n",
       "      <td>15.6</td>\n",
       "      <td>55</td>\n",
       "      <td>22.6</td>\n",
       "      <td>19</td>\n",
       "      <td>15</td>\n",
       "      <td>18</td>\n",
       "      <td>7.4</td>\n",
       "      <td>68</td>\n",
       "      <td>28.0</td>\n",
       "      <td>153</td>\n",
       "      <td>63.0</td>\n",
       "      <td>4</td>\n",
       "      <td>1.6</td>\n",
       "      <td>140</td>\n",
       "      <td>57.6</td>\n",
       "      <td>103</td>\n",
       "      <td>42.4</td>\n",
       "    </tr>\n",
       "    <tr>\n",
       "      <th>2</th>\n",
       "      <td>01M015</td>\n",
       "      <td>P.S. 015 ROBERTO CLEMENTE</td>\n",
       "      <td>20072008</td>\n",
       "      <td>89.4</td>\n",
       "      <td>NaN</td>\n",
       "      <td>261</td>\n",
       "      <td>18</td>\n",
       "      <td>43</td>\n",
       "      <td>39</td>\n",
       "      <td>36</td>\n",
       "      <td>38</td>\n",
       "      <td>47</td>\n",
       "      <td>40</td>\n",
       "      <td>NaN</td>\n",
       "      <td>NaN</td>\n",
       "      <td>NaN</td>\n",
       "      <td>NaN</td>\n",
       "      <td>NaN</td>\n",
       "      <td>NaN</td>\n",
       "      <td>NaN</td>\n",
       "      <td>52</td>\n",
       "      <td>19.9</td>\n",
       "      <td>60</td>\n",
       "      <td>23.0</td>\n",
       "      <td>20</td>\n",
       "      <td>14</td>\n",
       "      <td>16</td>\n",
       "      <td>6.1</td>\n",
       "      <td>77</td>\n",
       "      <td>29.5</td>\n",
       "      <td>157</td>\n",
       "      <td>60.2</td>\n",
       "      <td>7</td>\n",
       "      <td>2.7</td>\n",
       "      <td>143</td>\n",
       "      <td>54.8</td>\n",
       "      <td>118</td>\n",
       "      <td>45.2</td>\n",
       "    </tr>\n",
       "  </tbody>\n",
       "</table>\n",
       "</div>"
      ],
      "text/plain": [
       "      DBN                       Name  schoolyear fl_percent  frl_percent  \\\n",
       "0  01M015  P.S. 015 ROBERTO CLEMENTE    20052006       89.4          NaN   \n",
       "1  01M015  P.S. 015 ROBERTO CLEMENTE    20062007       89.4          NaN   \n",
       "2  01M015  P.S. 015 ROBERTO CLEMENTE    20072008       89.4          NaN   \n",
       "\n",
       "   total_enrollment prek   k grade1 grade2 grade3 grade4 grade5 grade6 grade7  \\\n",
       "0               281   15  36     40     33     38     52     29     38    NaN   \n",
       "1               243   15  29     39     38     34     42     46    NaN    NaN   \n",
       "2               261   18  43     39     36     38     47     40    NaN    NaN   \n",
       "\n",
       "  grade8 grade9 grade10 grade11 grade12  ell_num  ell_percent  sped_num  \\\n",
       "0    NaN    NaN     NaN     NaN     NaN       36         12.8        57   \n",
       "1    NaN    NaN     NaN     NaN     NaN       38         15.6        55   \n",
       "2    NaN    NaN     NaN     NaN     NaN       52         19.9        60   \n",
       "\n",
       "   sped_percent ctt_num selfcontained_num  asian_num  asian_per  black_num  \\\n",
       "0          20.3      25                 9         10        3.6         74   \n",
       "1          22.6      19                15         18        7.4         68   \n",
       "2          23.0      20                14         16        6.1         77   \n",
       "\n",
       "   black_per  hispanic_num  hispanic_per  white_num  white_per  male_num  \\\n",
       "0       26.3           189          67.3          5        1.8       158   \n",
       "1       28.0           153          63.0          4        1.6       140   \n",
       "2       29.5           157          60.2          7        2.7       143   \n",
       "\n",
       "   male_per  female_num  female_per  \n",
       "0      56.2         123        43.8  \n",
       "1      57.6         103        42.4  \n",
       "2      54.8         118        45.2  "
      ]
     },
     "execution_count": 46,
     "metadata": {},
     "output_type": "execute_result"
    }
   ],
   "source": [
    "pd.set_option('display.max_columns', 50)\n",
    "demo_and_account.head(3)"
   ]
  },
  {
   "cell_type": "markdown",
   "metadata": {},
   "source": [
    "Note that (besides DBN, Name, and schoolyear) all feature should be numeric. Moreover, note the following behavior (discovered in later analysis comparing fl_percent and frl_percent):"
   ]
  },
  {
   "cell_type": "code",
   "execution_count": 47,
   "metadata": {
    "collapsed": false
   },
   "outputs": [
    {
     "name": "stdout",
     "output_type": "stream",
     "text": [
      "        frl_percent\n",
      "DBN                \n",
      "01M015    94.133333\n",
      "01M019    75.166667\n",
      "01M020    95.566667\n",
      "01M034    97.600000\n",
      "01M056          NaN\n",
      "01M063    81.766667\n",
      "01M064    85.966667\n",
      "01M110    59.966667\n",
      "01M134    87.033333\n",
      "01M137    85.766667\n"
     ]
    }
   ],
   "source": [
    "compare_relationship_fl_frl = demo_and_account.groupby('DBN')['fl_percent','frl_percent'].mean()\n",
    "print compare_relationship_fl_frl.head(10)"
   ]
  },
  {
   "cell_type": "markdown",
   "metadata": {},
   "source": [
    "Since we only get means for frl_percent, we know there are incorrect values in fl_percent. Let's find them:"
   ]
  },
  {
   "cell_type": "code",
   "execution_count": 48,
   "metadata": {
    "collapsed": false
   },
   "outputs": [
    {
     "name": "stdout",
     "output_type": "stream",
     "text": [
      "Bad values are:  {'   ': 2973, 'nan': 1509, 'n/a': 6}\n"
     ]
    }
   ],
   "source": [
    "def find_bad_vals(feature):\n",
    "    bad_vals = {}\n",
    "    for val in demo_and_account[feature].astype(str):\n",
    "        finder = re.match('[0-9]+\\.?[0-9]*', val)\n",
    "        if finder == None:\n",
    "            if val in bad_vals:\n",
    "                bad_vals[val] += 1\n",
    "            else:\n",
    "                bad_vals[val] = 1\n",
    "    return bad_vals\n",
    "\n",
    "fl_percent_bad_vals = find_bad_vals('fl_percent')\n",
    "print 'Bad values are: ', fl_percent_bad_vals"
   ]
  },
  {
   "cell_type": "markdown",
   "metadata": {},
   "source": [
    "Now we know the issue- there are 6 occurances of 'n/a'. Let's replace them:"
   ]
  },
  {
   "cell_type": "code",
   "execution_count": 49,
   "metadata": {
    "collapsed": false
   },
   "outputs": [],
   "source": [
    "demo_and_account.loc[demo_and_account['fl_percent'].astype(str).isin(fl_percent_bad_vals.keys()), 'fl_percent'] = np.NaN"
   ]
  },
  {
   "cell_type": "markdown",
   "metadata": {},
   "source": [
    "Let's double check we've been able to replace all the bad values:"
   ]
  },
  {
   "cell_type": "code",
   "execution_count": 50,
   "metadata": {
    "collapsed": false
   },
   "outputs": [
    {
     "name": "stdout",
     "output_type": "stream",
     "text": [
      "Bad values are:  {'nan': 4488}\n"
     ]
    }
   ],
   "source": [
    "fl_percent_bad_vals = find_bad_vals('fl_percent')\n",
    "print 'Bad values are: ', fl_percent_bad_vals"
   ]
  },
  {
   "cell_type": "markdown",
   "metadata": {},
   "source": [
    "Since we want all the features except DBN and name to be numeric, let's clean them all up using this function."
   ]
  },
  {
   "cell_type": "code",
   "execution_count": 51,
   "metadata": {
    "collapsed": false
   },
   "outputs": [],
   "source": [
    "for feature in demo_and_account.drop(['Name','DBN','schoolyear'],axis=1).columns:\n",
    "    demo_and_account.loc[(demo_and_account[feature].isin(find_bad_vals(feature).keys())),feature] = np.NaN\n",
    "    demo_and_account[feature] =  demo_and_account[feature].astype(float)"
   ]
  },
  {
   "cell_type": "code",
   "execution_count": 52,
   "metadata": {
    "collapsed": false
   },
   "outputs": [
    {
     "data": {
      "text/html": [
       "<div>\n",
       "<table border=\"1\" class=\"dataframe\">\n",
       "  <thead>\n",
       "    <tr style=\"text-align: right;\">\n",
       "      <th></th>\n",
       "      <th>fl_percent</th>\n",
       "      <th>frl_percent</th>\n",
       "      <th>total_enrollment</th>\n",
       "      <th>prek</th>\n",
       "      <th>k</th>\n",
       "      <th>grade1</th>\n",
       "      <th>grade2</th>\n",
       "      <th>grade3</th>\n",
       "      <th>grade4</th>\n",
       "      <th>grade5</th>\n",
       "      <th>grade6</th>\n",
       "      <th>grade7</th>\n",
       "      <th>grade8</th>\n",
       "      <th>grade9</th>\n",
       "      <th>grade10</th>\n",
       "      <th>grade11</th>\n",
       "      <th>grade12</th>\n",
       "      <th>ell_num</th>\n",
       "      <th>ell_percent</th>\n",
       "      <th>sped_num</th>\n",
       "      <th>sped_percent</th>\n",
       "      <th>ctt_num</th>\n",
       "      <th>selfcontained_num</th>\n",
       "      <th>asian_num</th>\n",
       "      <th>asian_per</th>\n",
       "      <th>black_num</th>\n",
       "      <th>black_per</th>\n",
       "      <th>hispanic_num</th>\n",
       "      <th>hispanic_per</th>\n",
       "      <th>white_num</th>\n",
       "      <th>white_per</th>\n",
       "      <th>male_num</th>\n",
       "      <th>male_per</th>\n",
       "      <th>female_num</th>\n",
       "      <th>female_per</th>\n",
       "    </tr>\n",
       "  </thead>\n",
       "  <tbody>\n",
       "    <tr>\n",
       "      <th>count</th>\n",
       "      <td>5587.000000</td>\n",
       "      <td>4482.000000</td>\n",
       "      <td>10075.000000</td>\n",
       "      <td>3762.000000</td>\n",
       "      <td>5134.000000</td>\n",
       "      <td>5129.000000</td>\n",
       "      <td>5087.000000</td>\n",
       "      <td>5001.000000</td>\n",
       "      <td>4948.000000</td>\n",
       "      <td>4986.000000</td>\n",
       "      <td>3512.000000</td>\n",
       "      <td>3180.000000</td>\n",
       "      <td>3054.000000</td>\n",
       "      <td>2923.000000</td>\n",
       "      <td>2791.000000</td>\n",
       "      <td>2599.000000</td>\n",
       "      <td>2422.000000</td>\n",
       "      <td>9885.000000</td>\n",
       "      <td>9963.000000</td>\n",
       "      <td>9985.000000</td>\n",
       "      <td>10075.000000</td>\n",
       "      <td>8666.000000</td>\n",
       "      <td>9063.000000</td>\n",
       "      <td>10075.000000</td>\n",
       "      <td>10075.000000</td>\n",
       "      <td>10075.000000</td>\n",
       "      <td>10075.000000</td>\n",
       "      <td>10075.000000</td>\n",
       "      <td>10075.000000</td>\n",
       "      <td>10075.000000</td>\n",
       "      <td>10075.000000</td>\n",
       "      <td>10034.000000</td>\n",
       "      <td>10075.000000</td>\n",
       "      <td>10051.000000</td>\n",
       "      <td>10075.000000</td>\n",
       "    </tr>\n",
       "    <tr>\n",
       "      <th>mean</th>\n",
       "      <td>67.535207</td>\n",
       "      <td>74.319232</td>\n",
       "      <td>676.251712</td>\n",
       "      <td>39.283626</td>\n",
       "      <td>94.120569</td>\n",
       "      <td>101.718854</td>\n",
       "      <td>100.453509</td>\n",
       "      <td>100.317337</td>\n",
       "      <td>100.275869</td>\n",
       "      <td>98.842760</td>\n",
       "      <td>139.792141</td>\n",
       "      <td>157.489937</td>\n",
       "      <td>167.272102</td>\n",
       "      <td>237.966815</td>\n",
       "      <td>225.161591</td>\n",
       "      <td>168.572143</td>\n",
       "      <td>162.713047</td>\n",
       "      <td>94.109863</td>\n",
       "      <td>13.419181</td>\n",
       "      <td>93.055684</td>\n",
       "      <td>14.595325</td>\n",
       "      <td>26.426379</td>\n",
       "      <td>37.329692</td>\n",
       "      <td>99.564864</td>\n",
       "      <td>10.975434</td>\n",
       "      <td>204.336576</td>\n",
       "      <td>34.606392</td>\n",
       "      <td>267.675335</td>\n",
       "      <td>41.026303</td>\n",
       "      <td>97.051613</td>\n",
       "      <td>12.206144</td>\n",
       "      <td>345.332868</td>\n",
       "      <td>50.486591</td>\n",
       "      <td>333.117600</td>\n",
       "      <td>49.513648</td>\n",
       "    </tr>\n",
       "    <tr>\n",
       "      <th>std</th>\n",
       "      <td>21.763927</td>\n",
       "      <td>20.199703</td>\n",
       "      <td>571.479380</td>\n",
       "      <td>18.511524</td>\n",
       "      <td>47.433673</td>\n",
       "      <td>49.938692</td>\n",
       "      <td>48.813570</td>\n",
       "      <td>48.659580</td>\n",
       "      <td>48.347373</td>\n",
       "      <td>48.408357</td>\n",
       "      <td>118.138580</td>\n",
       "      <td>136.790459</td>\n",
       "      <td>145.600716</td>\n",
       "      <td>302.902117</td>\n",
       "      <td>270.825282</td>\n",
       "      <td>198.589398</td>\n",
       "      <td>191.417776</td>\n",
       "      <td>128.543858</td>\n",
       "      <td>14.074310</td>\n",
       "      <td>71.553037</td>\n",
       "      <td>6.632116</td>\n",
       "      <td>23.854651</td>\n",
       "      <td>37.613647</td>\n",
       "      <td>216.198496</td>\n",
       "      <td>16.548657</td>\n",
       "      <td>242.231283</td>\n",
       "      <td>28.474049</td>\n",
       "      <td>282.473135</td>\n",
       "      <td>25.745743</td>\n",
       "      <td>206.012658</td>\n",
       "      <td>19.332195</td>\n",
       "      <td>301.905487</td>\n",
       "      <td>8.165368</td>\n",
       "      <td>282.360271</td>\n",
       "      <td>8.165283</td>\n",
       "    </tr>\n",
       "    <tr>\n",
       "      <th>min</th>\n",
       "      <td>1.600000</td>\n",
       "      <td>3.700000</td>\n",
       "      <td>1.000000</td>\n",
       "      <td>6.000000</td>\n",
       "      <td>1.000000</td>\n",
       "      <td>1.000000</td>\n",
       "      <td>1.000000</td>\n",
       "      <td>1.000000</td>\n",
       "      <td>1.000000</td>\n",
       "      <td>1.000000</td>\n",
       "      <td>1.000000</td>\n",
       "      <td>1.000000</td>\n",
       "      <td>1.000000</td>\n",
       "      <td>1.000000</td>\n",
       "      <td>1.000000</td>\n",
       "      <td>1.000000</td>\n",
       "      <td>1.000000</td>\n",
       "      <td>0.000000</td>\n",
       "      <td>0.000000</td>\n",
       "      <td>0.000000</td>\n",
       "      <td>0.000000</td>\n",
       "      <td>0.000000</td>\n",
       "      <td>0.000000</td>\n",
       "      <td>0.000000</td>\n",
       "      <td>0.000000</td>\n",
       "      <td>0.000000</td>\n",
       "      <td>0.000000</td>\n",
       "      <td>0.000000</td>\n",
       "      <td>0.000000</td>\n",
       "      <td>0.000000</td>\n",
       "      <td>0.000000</td>\n",
       "      <td>0.000000</td>\n",
       "      <td>0.000000</td>\n",
       "      <td>0.000000</td>\n",
       "      <td>0.000000</td>\n",
       "    </tr>\n",
       "    <tr>\n",
       "      <th>25%</th>\n",
       "      <td>59.300000</td>\n",
       "      <td>65.000000</td>\n",
       "      <td>362.000000</td>\n",
       "      <td>29.000000</td>\n",
       "      <td>60.000000</td>\n",
       "      <td>66.000000</td>\n",
       "      <td>65.000000</td>\n",
       "      <td>65.000000</td>\n",
       "      <td>65.000000</td>\n",
       "      <td>64.000000</td>\n",
       "      <td>66.000000</td>\n",
       "      <td>68.000000</td>\n",
       "      <td>69.000000</td>\n",
       "      <td>92.000000</td>\n",
       "      <td>89.000000</td>\n",
       "      <td>69.000000</td>\n",
       "      <td>63.000000</td>\n",
       "      <td>19.000000</td>\n",
       "      <td>4.000000</td>\n",
       "      <td>49.000000</td>\n",
       "      <td>10.500000</td>\n",
       "      <td>8.000000</td>\n",
       "      <td>12.000000</td>\n",
       "      <td>4.000000</td>\n",
       "      <td>1.000000</td>\n",
       "      <td>50.000000</td>\n",
       "      <td>10.200000</td>\n",
       "      <td>81.000000</td>\n",
       "      <td>17.400000</td>\n",
       "      <td>4.000000</td>\n",
       "      <td>0.900000</td>\n",
       "      <td>177.000000</td>\n",
       "      <td>48.500000</td>\n",
       "      <td>177.000000</td>\n",
       "      <td>46.800000</td>\n",
       "    </tr>\n",
       "    <tr>\n",
       "      <th>50%</th>\n",
       "      <td>72.300000</td>\n",
       "      <td>79.900000</td>\n",
       "      <td>534.000000</td>\n",
       "      <td>36.000000</td>\n",
       "      <td>86.000000</td>\n",
       "      <td>94.000000</td>\n",
       "      <td>92.000000</td>\n",
       "      <td>92.000000</td>\n",
       "      <td>92.000000</td>\n",
       "      <td>91.000000</td>\n",
       "      <td>95.000000</td>\n",
       "      <td>98.000000</td>\n",
       "      <td>101.000000</td>\n",
       "      <td>124.000000</td>\n",
       "      <td>117.000000</td>\n",
       "      <td>93.000000</td>\n",
       "      <td>87.000000</td>\n",
       "      <td>47.000000</td>\n",
       "      <td>9.200000</td>\n",
       "      <td>80.000000</td>\n",
       "      <td>14.300000</td>\n",
       "      <td>21.000000</td>\n",
       "      <td>29.000000</td>\n",
       "      <td>16.000000</td>\n",
       "      <td>3.300000</td>\n",
       "      <td>127.000000</td>\n",
       "      <td>27.500000</td>\n",
       "      <td>186.000000</td>\n",
       "      <td>38.400000</td>\n",
       "      <td>13.000000</td>\n",
       "      <td>2.400000</td>\n",
       "      <td>274.000000</td>\n",
       "      <td>51.000000</td>\n",
       "      <td>266.000000</td>\n",
       "      <td>49.000000</td>\n",
       "    </tr>\n",
       "    <tr>\n",
       "      <th>75%</th>\n",
       "      <td>83.900000</td>\n",
       "      <td>89.200000</td>\n",
       "      <td>804.500000</td>\n",
       "      <td>52.000000</td>\n",
       "      <td>119.000000</td>\n",
       "      <td>128.000000</td>\n",
       "      <td>127.000000</td>\n",
       "      <td>127.000000</td>\n",
       "      <td>127.000000</td>\n",
       "      <td>126.000000</td>\n",
       "      <td>163.000000</td>\n",
       "      <td>204.000000</td>\n",
       "      <td>232.000000</td>\n",
       "      <td>208.000000</td>\n",
       "      <td>195.000000</td>\n",
       "      <td>155.000000</td>\n",
       "      <td>160.000000</td>\n",
       "      <td>119.000000</td>\n",
       "      <td>18.300000</td>\n",
       "      <td>118.000000</td>\n",
       "      <td>18.400000</td>\n",
       "      <td>38.000000</td>\n",
       "      <td>50.000000</td>\n",
       "      <td>89.000000</td>\n",
       "      <td>13.200000</td>\n",
       "      <td>267.000000</td>\n",
       "      <td>54.500000</td>\n",
       "      <td>348.000000</td>\n",
       "      <td>62.600000</td>\n",
       "      <td>88.000000</td>\n",
       "      <td>14.600000</td>\n",
       "      <td>414.000000</td>\n",
       "      <td>53.200000</td>\n",
       "      <td>395.000000</td>\n",
       "      <td>51.500000</td>\n",
       "    </tr>\n",
       "    <tr>\n",
       "      <th>max</th>\n",
       "      <td>100.000000</td>\n",
       "      <td>100.000000</td>\n",
       "      <td>5332.000000</td>\n",
       "      <td>143.000000</td>\n",
       "      <td>361.000000</td>\n",
       "      <td>368.000000</td>\n",
       "      <td>369.000000</td>\n",
       "      <td>377.000000</td>\n",
       "      <td>390.000000</td>\n",
       "      <td>398.000000</td>\n",
       "      <td>812.000000</td>\n",
       "      <td>814.000000</td>\n",
       "      <td>824.000000</td>\n",
       "      <td>2005.000000</td>\n",
       "      <td>2016.000000</td>\n",
       "      <td>1319.000000</td>\n",
       "      <td>1341.000000</td>\n",
       "      <td>1418.000000</td>\n",
       "      <td>100.000000</td>\n",
       "      <td>751.000000</td>\n",
       "      <td>100.000000</td>\n",
       "      <td>258.000000</td>\n",
       "      <td>440.000000</td>\n",
       "      <td>3214.000000</td>\n",
       "      <td>93.700000</td>\n",
       "      <td>3852.000000</td>\n",
       "      <td>100.000000</td>\n",
       "      <td>2903.000000</td>\n",
       "      <td>100.000000</td>\n",
       "      <td>3181.000000</td>\n",
       "      <td>100.000000</td>\n",
       "      <td>3106.000000</td>\n",
       "      <td>100.000000</td>\n",
       "      <td>2497.000000</td>\n",
       "      <td>100.000000</td>\n",
       "    </tr>\n",
       "  </tbody>\n",
       "</table>\n",
       "</div>"
      ],
      "text/plain": [
       "        fl_percent  frl_percent  total_enrollment         prek            k  \\\n",
       "count  5587.000000  4482.000000      10075.000000  3762.000000  5134.000000   \n",
       "mean     67.535207    74.319232        676.251712    39.283626    94.120569   \n",
       "std      21.763927    20.199703        571.479380    18.511524    47.433673   \n",
       "min       1.600000     3.700000          1.000000     6.000000     1.000000   \n",
       "25%      59.300000    65.000000        362.000000    29.000000    60.000000   \n",
       "50%      72.300000    79.900000        534.000000    36.000000    86.000000   \n",
       "75%      83.900000    89.200000        804.500000    52.000000   119.000000   \n",
       "max     100.000000   100.000000       5332.000000   143.000000   361.000000   \n",
       "\n",
       "            grade1       grade2       grade3       grade4       grade5  \\\n",
       "count  5129.000000  5087.000000  5001.000000  4948.000000  4986.000000   \n",
       "mean    101.718854   100.453509   100.317337   100.275869    98.842760   \n",
       "std      49.938692    48.813570    48.659580    48.347373    48.408357   \n",
       "min       1.000000     1.000000     1.000000     1.000000     1.000000   \n",
       "25%      66.000000    65.000000    65.000000    65.000000    64.000000   \n",
       "50%      94.000000    92.000000    92.000000    92.000000    91.000000   \n",
       "75%     128.000000   127.000000   127.000000   127.000000   126.000000   \n",
       "max     368.000000   369.000000   377.000000   390.000000   398.000000   \n",
       "\n",
       "            grade6       grade7       grade8       grade9      grade10  \\\n",
       "count  3512.000000  3180.000000  3054.000000  2923.000000  2791.000000   \n",
       "mean    139.792141   157.489937   167.272102   237.966815   225.161591   \n",
       "std     118.138580   136.790459   145.600716   302.902117   270.825282   \n",
       "min       1.000000     1.000000     1.000000     1.000000     1.000000   \n",
       "25%      66.000000    68.000000    69.000000    92.000000    89.000000   \n",
       "50%      95.000000    98.000000   101.000000   124.000000   117.000000   \n",
       "75%     163.000000   204.000000   232.000000   208.000000   195.000000   \n",
       "max     812.000000   814.000000   824.000000  2005.000000  2016.000000   \n",
       "\n",
       "           grade11      grade12      ell_num  ell_percent     sped_num  \\\n",
       "count  2599.000000  2422.000000  9885.000000  9963.000000  9985.000000   \n",
       "mean    168.572143   162.713047    94.109863    13.419181    93.055684   \n",
       "std     198.589398   191.417776   128.543858    14.074310    71.553037   \n",
       "min       1.000000     1.000000     0.000000     0.000000     0.000000   \n",
       "25%      69.000000    63.000000    19.000000     4.000000    49.000000   \n",
       "50%      93.000000    87.000000    47.000000     9.200000    80.000000   \n",
       "75%     155.000000   160.000000   119.000000    18.300000   118.000000   \n",
       "max    1319.000000  1341.000000  1418.000000   100.000000   751.000000   \n",
       "\n",
       "       sped_percent      ctt_num  selfcontained_num     asian_num  \\\n",
       "count  10075.000000  8666.000000        9063.000000  10075.000000   \n",
       "mean      14.595325    26.426379          37.329692     99.564864   \n",
       "std        6.632116    23.854651          37.613647    216.198496   \n",
       "min        0.000000     0.000000           0.000000      0.000000   \n",
       "25%       10.500000     8.000000          12.000000      4.000000   \n",
       "50%       14.300000    21.000000          29.000000     16.000000   \n",
       "75%       18.400000    38.000000          50.000000     89.000000   \n",
       "max      100.000000   258.000000         440.000000   3214.000000   \n",
       "\n",
       "          asian_per     black_num     black_per  hispanic_num  hispanic_per  \\\n",
       "count  10075.000000  10075.000000  10075.000000  10075.000000  10075.000000   \n",
       "mean      10.975434    204.336576     34.606392    267.675335     41.026303   \n",
       "std       16.548657    242.231283     28.474049    282.473135     25.745743   \n",
       "min        0.000000      0.000000      0.000000      0.000000      0.000000   \n",
       "25%        1.000000     50.000000     10.200000     81.000000     17.400000   \n",
       "50%        3.300000    127.000000     27.500000    186.000000     38.400000   \n",
       "75%       13.200000    267.000000     54.500000    348.000000     62.600000   \n",
       "max       93.700000   3852.000000    100.000000   2903.000000    100.000000   \n",
       "\n",
       "          white_num     white_per      male_num      male_per    female_num  \\\n",
       "count  10075.000000  10075.000000  10034.000000  10075.000000  10051.000000   \n",
       "mean      97.051613     12.206144    345.332868     50.486591    333.117600   \n",
       "std      206.012658     19.332195    301.905487      8.165368    282.360271   \n",
       "min        0.000000      0.000000      0.000000      0.000000      0.000000   \n",
       "25%        4.000000      0.900000    177.000000     48.500000    177.000000   \n",
       "50%       13.000000      2.400000    274.000000     51.000000    266.000000   \n",
       "75%       88.000000     14.600000    414.000000     53.200000    395.000000   \n",
       "max     3181.000000    100.000000   3106.000000    100.000000   2497.000000   \n",
       "\n",
       "         female_per  \n",
       "count  10075.000000  \n",
       "mean      49.513648  \n",
       "std        8.165283  \n",
       "min        0.000000  \n",
       "25%       46.800000  \n",
       "50%       49.000000  \n",
       "75%       51.500000  \n",
       "max      100.000000  "
      ]
     },
     "execution_count": 52,
     "metadata": {},
     "output_type": "execute_result"
    }
   ],
   "source": [
    "demo_and_account.drop(['Name','DBN','schoolyear'],axis=1).describe()"
   ]
  },
  {
   "cell_type": "markdown",
   "metadata": {},
   "source": [
    "Next, let's drop the first two characters (district code) from the DBN (so DBN can be used as a merge key with our other datasets), and drop all but the last four characters from school year (so it can also be used as a merge key)."
   ]
  },
  {
   "cell_type": "code",
   "execution_count": 53,
   "metadata": {
    "collapsed": false
   },
   "outputs": [
    {
     "data": {
      "text/html": [
       "<div>\n",
       "<table border=\"1\" class=\"dataframe\">\n",
       "  <thead>\n",
       "    <tr style=\"text-align: right;\">\n",
       "      <th></th>\n",
       "      <th>DBN</th>\n",
       "      <th>Name</th>\n",
       "      <th>schoolyear</th>\n",
       "      <th>fl_percent</th>\n",
       "      <th>frl_percent</th>\n",
       "      <th>total_enrollment</th>\n",
       "      <th>prek</th>\n",
       "      <th>k</th>\n",
       "      <th>grade1</th>\n",
       "      <th>grade2</th>\n",
       "      <th>grade3</th>\n",
       "      <th>grade4</th>\n",
       "      <th>grade5</th>\n",
       "      <th>grade6</th>\n",
       "      <th>grade7</th>\n",
       "      <th>grade8</th>\n",
       "      <th>grade9</th>\n",
       "      <th>grade10</th>\n",
       "      <th>grade11</th>\n",
       "      <th>grade12</th>\n",
       "      <th>ell_num</th>\n",
       "      <th>ell_percent</th>\n",
       "      <th>sped_num</th>\n",
       "      <th>sped_percent</th>\n",
       "      <th>ctt_num</th>\n",
       "      <th>selfcontained_num</th>\n",
       "      <th>asian_num</th>\n",
       "      <th>asian_per</th>\n",
       "      <th>black_num</th>\n",
       "      <th>black_per</th>\n",
       "      <th>hispanic_num</th>\n",
       "      <th>hispanic_per</th>\n",
       "      <th>white_num</th>\n",
       "      <th>white_per</th>\n",
       "      <th>male_num</th>\n",
       "      <th>male_per</th>\n",
       "      <th>female_num</th>\n",
       "      <th>female_per</th>\n",
       "    </tr>\n",
       "  </thead>\n",
       "  <tbody>\n",
       "    <tr>\n",
       "      <th>0</th>\n",
       "      <td>M015</td>\n",
       "      <td>P.S. 015 ROBERTO CLEMENTE</td>\n",
       "      <td>2006</td>\n",
       "      <td>89.4</td>\n",
       "      <td>NaN</td>\n",
       "      <td>281</td>\n",
       "      <td>15</td>\n",
       "      <td>36</td>\n",
       "      <td>40</td>\n",
       "      <td>33</td>\n",
       "      <td>38</td>\n",
       "      <td>52</td>\n",
       "      <td>29</td>\n",
       "      <td>38</td>\n",
       "      <td>NaN</td>\n",
       "      <td>NaN</td>\n",
       "      <td>NaN</td>\n",
       "      <td>NaN</td>\n",
       "      <td>NaN</td>\n",
       "      <td>NaN</td>\n",
       "      <td>36</td>\n",
       "      <td>12.8</td>\n",
       "      <td>57</td>\n",
       "      <td>20.3</td>\n",
       "      <td>25</td>\n",
       "      <td>9</td>\n",
       "      <td>10</td>\n",
       "      <td>3.6</td>\n",
       "      <td>74</td>\n",
       "      <td>26.3</td>\n",
       "      <td>189</td>\n",
       "      <td>67.3</td>\n",
       "      <td>5</td>\n",
       "      <td>1.8</td>\n",
       "      <td>158</td>\n",
       "      <td>56.2</td>\n",
       "      <td>123</td>\n",
       "      <td>43.8</td>\n",
       "    </tr>\n",
       "    <tr>\n",
       "      <th>1</th>\n",
       "      <td>M015</td>\n",
       "      <td>P.S. 015 ROBERTO CLEMENTE</td>\n",
       "      <td>2007</td>\n",
       "      <td>89.4</td>\n",
       "      <td>NaN</td>\n",
       "      <td>243</td>\n",
       "      <td>15</td>\n",
       "      <td>29</td>\n",
       "      <td>39</td>\n",
       "      <td>38</td>\n",
       "      <td>34</td>\n",
       "      <td>42</td>\n",
       "      <td>46</td>\n",
       "      <td>NaN</td>\n",
       "      <td>NaN</td>\n",
       "      <td>NaN</td>\n",
       "      <td>NaN</td>\n",
       "      <td>NaN</td>\n",
       "      <td>NaN</td>\n",
       "      <td>NaN</td>\n",
       "      <td>38</td>\n",
       "      <td>15.6</td>\n",
       "      <td>55</td>\n",
       "      <td>22.6</td>\n",
       "      <td>19</td>\n",
       "      <td>15</td>\n",
       "      <td>18</td>\n",
       "      <td>7.4</td>\n",
       "      <td>68</td>\n",
       "      <td>28.0</td>\n",
       "      <td>153</td>\n",
       "      <td>63.0</td>\n",
       "      <td>4</td>\n",
       "      <td>1.6</td>\n",
       "      <td>140</td>\n",
       "      <td>57.6</td>\n",
       "      <td>103</td>\n",
       "      <td>42.4</td>\n",
       "    </tr>\n",
       "    <tr>\n",
       "      <th>2</th>\n",
       "      <td>M015</td>\n",
       "      <td>P.S. 015 ROBERTO CLEMENTE</td>\n",
       "      <td>2008</td>\n",
       "      <td>89.4</td>\n",
       "      <td>NaN</td>\n",
       "      <td>261</td>\n",
       "      <td>18</td>\n",
       "      <td>43</td>\n",
       "      <td>39</td>\n",
       "      <td>36</td>\n",
       "      <td>38</td>\n",
       "      <td>47</td>\n",
       "      <td>40</td>\n",
       "      <td>NaN</td>\n",
       "      <td>NaN</td>\n",
       "      <td>NaN</td>\n",
       "      <td>NaN</td>\n",
       "      <td>NaN</td>\n",
       "      <td>NaN</td>\n",
       "      <td>NaN</td>\n",
       "      <td>52</td>\n",
       "      <td>19.9</td>\n",
       "      <td>60</td>\n",
       "      <td>23.0</td>\n",
       "      <td>20</td>\n",
       "      <td>14</td>\n",
       "      <td>16</td>\n",
       "      <td>6.1</td>\n",
       "      <td>77</td>\n",
       "      <td>29.5</td>\n",
       "      <td>157</td>\n",
       "      <td>60.2</td>\n",
       "      <td>7</td>\n",
       "      <td>2.7</td>\n",
       "      <td>143</td>\n",
       "      <td>54.8</td>\n",
       "      <td>118</td>\n",
       "      <td>45.2</td>\n",
       "    </tr>\n",
       "  </tbody>\n",
       "</table>\n",
       "</div>"
      ],
      "text/plain": [
       "    DBN                       Name schoolyear  fl_percent  frl_percent  \\\n",
       "0  M015  P.S. 015 ROBERTO CLEMENTE       2006        89.4          NaN   \n",
       "1  M015  P.S. 015 ROBERTO CLEMENTE       2007        89.4          NaN   \n",
       "2  M015  P.S. 015 ROBERTO CLEMENTE       2008        89.4          NaN   \n",
       "\n",
       "   total_enrollment  prek   k  grade1  grade2  grade3  grade4  grade5  grade6  \\\n",
       "0               281    15  36      40      33      38      52      29      38   \n",
       "1               243    15  29      39      38      34      42      46     NaN   \n",
       "2               261    18  43      39      36      38      47      40     NaN   \n",
       "\n",
       "   grade7  grade8  grade9  grade10  grade11  grade12  ell_num  ell_percent  \\\n",
       "0     NaN     NaN     NaN      NaN      NaN      NaN       36         12.8   \n",
       "1     NaN     NaN     NaN      NaN      NaN      NaN       38         15.6   \n",
       "2     NaN     NaN     NaN      NaN      NaN      NaN       52         19.9   \n",
       "\n",
       "   sped_num  sped_percent  ctt_num  selfcontained_num  asian_num  asian_per  \\\n",
       "0        57          20.3       25                  9         10        3.6   \n",
       "1        55          22.6       19                 15         18        7.4   \n",
       "2        60          23.0       20                 14         16        6.1   \n",
       "\n",
       "   black_num  black_per  hispanic_num  hispanic_per  white_num  white_per  \\\n",
       "0         74       26.3           189          67.3          5        1.8   \n",
       "1         68       28.0           153          63.0          4        1.6   \n",
       "2         77       29.5           157          60.2          7        2.7   \n",
       "\n",
       "   male_num  male_per  female_num  female_per  \n",
       "0       158      56.2         123        43.8  \n",
       "1       140      57.6         103        42.4  \n",
       "2       143      54.8         118        45.2  "
      ]
     },
     "execution_count": 53,
     "metadata": {},
     "output_type": "execute_result"
    }
   ],
   "source": [
    "demo_and_account.loc[:,'DBN'] = demo_and_account['DBN'].map(lambda x: str(x)[2:])\n",
    "demo_and_account.loc[:,'schoolyear'] = demo_and_account['schoolyear'].map(lambda x: str(x)[-4:])\n",
    "demo_and_account.head(3)"
   ]
  },
  {
   "cell_type": "markdown",
   "metadata": {},
   "source": [
    "Now we need to reshape the dataframe, such that we have unique records for each DBN."
   ]
  },
  {
   "cell_type": "markdown",
   "metadata": {},
   "source": [
    "Now that we've clean up the data, we're interested in exploring the correlation between fl_percent frl_percent. This is important because fl_percent is only available from AY 05-06 to AY08-09, while frl_percent is available from AY-09-10 to AY11-12."
   ]
  },
  {
   "cell_type": "markdown",
   "metadata": {},
   "source": [
    "We first group by DBN, find the average fl_percent and frl_percent for each school, then plot to compare."
   ]
  },
  {
   "cell_type": "code",
   "execution_count": null,
   "metadata": {
    "collapsed": false
   },
   "outputs": [],
   "source": [
    "grouped = demo_and_account.groupby('DBN')['fl_percent','frl_percent'].mean()"
   ]
  },
  {
   "cell_type": "code",
   "execution_count": 55,
   "metadata": {
    "collapsed": false
   },
   "outputs": [
    {
     "data": {
      "text/html": [
       "<div>\n",
       "<table border=\"1\" class=\"dataframe\">\n",
       "  <thead>\n",
       "    <tr style=\"text-align: right;\">\n",
       "      <th></th>\n",
       "      <th>fl_percent</th>\n",
       "      <th>frl_percent</th>\n",
       "    </tr>\n",
       "    <tr>\n",
       "      <th>DBN</th>\n",
       "      <th></th>\n",
       "      <th></th>\n",
       "    </tr>\n",
       "  </thead>\n",
       "  <tbody>\n",
       "    <tr>\n",
       "      <th>K001</th>\n",
       "      <td>83.425</td>\n",
       "      <td>87.033333</td>\n",
       "    </tr>\n",
       "    <tr>\n",
       "      <th>K002</th>\n",
       "      <td>86.900</td>\n",
       "      <td>91.666667</td>\n",
       "    </tr>\n",
       "    <tr>\n",
       "      <th>K003</th>\n",
       "      <td>69.000</td>\n",
       "      <td>77.366667</td>\n",
       "    </tr>\n",
       "    <tr>\n",
       "      <th>K005</th>\n",
       "      <td>77.100</td>\n",
       "      <td>86.566667</td>\n",
       "    </tr>\n",
       "    <tr>\n",
       "      <th>K006</th>\n",
       "      <td>87.875</td>\n",
       "      <td>91.733333</td>\n",
       "    </tr>\n",
       "    <tr>\n",
       "      <th>K007</th>\n",
       "      <td>86.475</td>\n",
       "      <td>88.566667</td>\n",
       "    </tr>\n",
       "  </tbody>\n",
       "</table>\n",
       "</div>"
      ],
      "text/plain": [
       "      fl_percent  frl_percent\n",
       "DBN                          \n",
       "K001      83.425    87.033333\n",
       "K002      86.900    91.666667\n",
       "K003      69.000    77.366667\n",
       "K005      77.100    86.566667\n",
       "K006      87.875    91.733333\n",
       "K007      86.475    88.566667"
      ]
     },
     "execution_count": 55,
     "metadata": {},
     "output_type": "execute_result"
    }
   ],
   "source": [
    "grouped.head(6)"
   ]
  },
  {
   "cell_type": "code",
   "execution_count": 66,
   "metadata": {
    "collapsed": false
   },
   "outputs": [
    {
     "data": {
      "text/plain": [
       "<matplotlib.text.Text at 0x110a282d0>"
      ]
     },
     "execution_count": 66,
     "metadata": {},
     "output_type": "execute_result"
    },
    {
     "data": {
      "image/png": "[encoded data removed]",
      "text/plain": [
       "<matplotlib.figure.Figure at 0x1108651d0>"
      ]
     },
     "metadata": {},
     "output_type": "display_data"
    }
   ],
   "source": [
    "%matplotlib inline\n",
    "\n",
    "plt.figure()\n",
    "plt.scatter(grouped.fl_percent,grouped.frl_percent,)\n",
    "plt.title('Free lunch vs. free and reduced lunch')\n",
    "plt.xlabel('Free lunch percent by school\\n(averaged over AY 05-06 to 08-09)')\n",
    "plt.ylabel('Free and reduced lunch percent by school\\n(averaged over AY 09-10 to  11-12)')"
   ]
  },
  {
   "cell_type": "markdown",
   "metadata": {},
   "source": [
    "Now let's explore the distributions of other features available in the snapshot:"
   ]
  },
  {
   "cell_type": "code",
   "execution_count": 57,
   "metadata": {
    "collapsed": false
   },
   "outputs": [
    {
     "data": {
      "text/plain": [
       "<matplotlib.text.Text at 0x10be9b350>"
      ]
     },
     "execution_count": 57,
     "metadata": {},
     "output_type": "execute_result"
    },
    {
     "data": {
      "image/png": "[encoded data removed]",
      "text/plain": [
       "<matplotlib.figure.Figure at 0x10bbc1b90>"
      ]
     },
     "metadata": {},
     "output_type": "display_data"
    }
   ],
   "source": [
    "enrollment = plt.hist(demo_and_account.total_enrollment, bins = 100)\n",
    "plt.title('Total enrollment by school, 2006-2012')"
   ]
  },
  {
   "cell_type": "code",
   "execution_count": 58,
   "metadata": {
    "collapsed": false
   },
   "outputs": [
    {
     "data": {
      "text/plain": [
       "<matplotlib.text.Text at 0x10cabc890>"
      ]
     },
     "execution_count": 58,
     "metadata": {},
     "output_type": "execute_result"
    },
    {
     "data": {
      "image/png": "[encoded data removed]",
      "text/plain": [
       "<matplotlib.figure.Figure at 0x109cd8150>"
      ]
     },
     "metadata": {},
     "output_type": "display_data"
    }
   ],
   "source": [
    "plt.close('all')\n",
    "ell = plt.hist(demo_and_account['ell_percent'], bins = 100, range=[0,100])\n",
    "plt.title('ELL percent by school, 2006-2012')"
   ]
  },
  {
   "cell_type": "code",
   "execution_count": 59,
   "metadata": {
    "collapsed": false
   },
   "outputs": [
    {
     "data": {
      "text/plain": [
       "<matplotlib.text.Text at 0x10dbb18d0>"
      ]
     },
     "execution_count": 59,
     "metadata": {},
     "output_type": "execute_result"
    },
    {
     "data": {
      "image/png": "[encoded data removed]",
      "text/plain": [
       "<matplotlib.figure.Figure at 0x10c757490>"
      ]
     },
     "metadata": {},
     "output_type": "display_data"
    }
   ],
   "source": [
    "plt.close('all')\n",
    "sped = plt.hist(demo_and_account['sped_percent'], bins = 100, range=[0,100])\n",
    "plt.title('Special education percent by school, 2006-2012')"
   ]
  },
  {
   "cell_type": "code",
   "execution_count": 60,
   "metadata": {
    "collapsed": false
   },
   "outputs": [
    {
     "data": {
      "text/plain": [
       "<matplotlib.legend.Legend at 0x10ff24dd0>"
      ]
     },
     "execution_count": 60,
     "metadata": {},
     "output_type": "execute_result"
    },
    {
     "data": {
      "image/png": "[encoded data removed]",
      "text/plain": [
       "<matplotlib.figure.Figure at 0x10e2cd2d0>"
      ]
     },
     "metadata": {},
     "output_type": "display_data"
    }
   ],
   "source": [
    "plt.close('all')\n",
    "\n",
    "plt.figure()\n",
    "plt.subplot(221)\n",
    "plt.hist(demo_and_account['black_per'], bins = 100, range=[0,100],label='Black')\n",
    "plt.legend()\n",
    "\n",
    "plt.subplot(222)\n",
    "plt.hist(demo_and_account['white_per'], bins = 100, range=[0,100],label='White')\n",
    "plt.legend()\n",
    "\n",
    "plt.subplot(223)\n",
    "plt.hist(demo_and_account['asian_per'], bins = 100, range=[0,100],label='Asian')\n",
    "plt.legend()\n",
    "\n",
    "plt.subplot(224)\n",
    "plt.hist(demo_and_account['hispanic_per'], bins = 100, range=[0,100],label='Hispanic')\n",
    "plt.legend()\n"
   ]
  }
 ],
 "metadata": {
  "kernelspec": {
   "display_name": "Python 2",
   "language": "python",
   "name": "python2"
  },
  "language_info": {
   "codemirror_mode": {
    "name": "ipython",
    "version": 2
   },
   "file_extension": ".py",
   "mimetype": "text/x-python",
   "name": "python",
   "nbconvert_exporter": "python",
   "pygments_lexer": "ipython2",
   "version": "2.7.10"
  }
 },
 "nbformat": 4,
 "nbformat_minor": 0
}
