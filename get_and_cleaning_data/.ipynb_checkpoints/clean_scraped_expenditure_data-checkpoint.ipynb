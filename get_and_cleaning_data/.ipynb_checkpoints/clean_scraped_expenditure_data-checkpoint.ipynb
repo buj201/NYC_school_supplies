{
 "cells": [
  {
   "cell_type": "markdown",
   "metadata": {},
   "source": [
    "# Cleaning the school budget data\n",
    "\n",
    "In this notebook, we clean the school budget data (specifically addressing NaN value)."
   ]
  },
  {
   "cell_type": "code",
   "execution_count": 103,
   "metadata": {
    "collapsed": false
   },
   "outputs": [],
   "source": [
    "import pandas as pd\n",
    "\n",
    "data_2006 = pd.read_csv('raw_school_expenditures_by_year/year_2006.csv', index_col=0)\n",
    "data_2007 = pd.read_csv('raw_school_expenditures_by_year/year_2007.csv', index_col=0)\n",
    "data_2008 = pd.read_csv('raw_school_expenditures_by_year/year_2008.csv', index_col=0)\n",
    "data_2009 = pd.read_csv('raw_school_expenditures_by_year/year_2009.csv', index_col=0)\n",
    "data_2010 = pd.read_csv('raw_school_expenditures_by_year/year_2010.csv', index_col=0)\n",
    "data_2011 = pd.read_csv('raw_school_expenditures_by_year/year_2011.csv', index_col=0)\n",
    "data_2012 = pd.read_csv('raw_school_expenditures_by_year/year_2012.csv', index_col=0)"
   ]
  },
  {
   "cell_type": "code",
   "execution_count": 104,
   "metadata": {
    "collapsed": false
   },
   "outputs": [
    {
     "data": {
      "text/html": [
       "<div>\n",
       "<table border=\"1\" class=\"dataframe\">\n",
       "  <thead>\n",
       "    <tr style=\"text-align: right;\">\n",
       "      <th></th>\n",
       "      <th>Additions_to_Regular_Salary</th>\n",
       "      <th>Additions_to_Salary__Projected_Expenses</th>\n",
       "      <th>After_School_and_Student_Activities</th>\n",
       "      <th>Ancillary_Support_Services_All_Funds</th>\n",
       "      <th>Assistant_Principals</th>\n",
       "      <th>Attendance__Outreach_Services</th>\n",
       "      <th>Building_Maintenance</th>\n",
       "      <th>Building_Services_All_Funds</th>\n",
       "      <th>Central_Administration_All_Funds</th>\n",
       "      <th>Central_Instructional_Support_All_Funds</th>\n",
       "      <th>...</th>\n",
       "      <th>Supervisors</th>\n",
       "      <th>Supplies_Materials_Equipment_Telephones</th>\n",
       "      <th>SystemWide_Costs</th>\n",
       "      <th>SystemWide_Obligations</th>\n",
       "      <th>Teachers</th>\n",
       "      <th>Text_Books</th>\n",
       "      <th>Title_1</th>\n",
       "      <th>Total</th>\n",
       "      <th>Transportation</th>\n",
       "      <th>_No_type_required</th>\n",
       "    </tr>\n",
       "  </thead>\n",
       "  <tbody>\n",
       "    <tr>\n",
       "      <th>M015</th>\n",
       "      <td>3</td>\n",
       "      <td>97</td>\n",
       "      <td>170</td>\n",
       "      <td>1936</td>\n",
       "      <td>1</td>\n",
       "      <td>286</td>\n",
       "      <td>267</td>\n",
       "      <td>1393</td>\n",
       "      <td>331</td>\n",
       "      <td>63</td>\n",
       "      <td>...</td>\n",
       "      <td>9</td>\n",
       "      <td>126</td>\n",
       "      <td>394</td>\n",
       "      <td>1572</td>\n",
       "      <td>7684</td>\n",
       "      <td>101</td>\n",
       "      <td>Yes</td>\n",
       "      <td>22026</td>\n",
       "      <td>511</td>\n",
       "      <td>283</td>\n",
       "    </tr>\n",
       "    <tr>\n",
       "      <th>M019</th>\n",
       "      <td>4</td>\n",
       "      <td>69</td>\n",
       "      <td>195</td>\n",
       "      <td>1876</td>\n",
       "      <td>465</td>\n",
       "      <td>147</td>\n",
       "      <td>169</td>\n",
       "      <td>1270</td>\n",
       "      <td>329</td>\n",
       "      <td>59</td>\n",
       "      <td>...</td>\n",
       "      <td>10</td>\n",
       "      <td>153</td>\n",
       "      <td>388</td>\n",
       "      <td>1572</td>\n",
       "      <td>7942</td>\n",
       "      <td>215</td>\n",
       "      <td>Yes</td>\n",
       "      <td>19724</td>\n",
       "      <td>931</td>\n",
       "      <td>292</td>\n",
       "    </tr>\n",
       "    <tr>\n",
       "      <th>M020</th>\n",
       "      <td>3</td>\n",
       "      <td>75</td>\n",
       "      <td>211</td>\n",
       "      <td>1607</td>\n",
       "      <td>233</td>\n",
       "      <td>326</td>\n",
       "      <td>149</td>\n",
       "      <td>1204</td>\n",
       "      <td>330</td>\n",
       "      <td>63</td>\n",
       "      <td>...</td>\n",
       "      <td>51</td>\n",
       "      <td>128</td>\n",
       "      <td>393</td>\n",
       "      <td>1572</td>\n",
       "      <td>7850</td>\n",
       "      <td>156</td>\n",
       "      <td>Yes</td>\n",
       "      <td>19247</td>\n",
       "      <td>295</td>\n",
       "      <td>283</td>\n",
       "    </tr>\n",
       "    <tr>\n",
       "      <th>M034</th>\n",
       "      <td>3</td>\n",
       "      <td>83</td>\n",
       "      <td>303</td>\n",
       "      <td>1292</td>\n",
       "      <td>350</td>\n",
       "      <td>286</td>\n",
       "      <td>316</td>\n",
       "      <td>1486</td>\n",
       "      <td>330</td>\n",
       "      <td>57</td>\n",
       "      <td>...</td>\n",
       "      <td>8</td>\n",
       "      <td>231</td>\n",
       "      <td>388</td>\n",
       "      <td>1572</td>\n",
       "      <td>7439</td>\n",
       "      <td>94</td>\n",
       "      <td>Yes</td>\n",
       "      <td>18967</td>\n",
       "      <td>337</td>\n",
       "      <td>282</td>\n",
       "    </tr>\n",
       "    <tr>\n",
       "      <th>M063</th>\n",
       "      <td>3</td>\n",
       "      <td>91</td>\n",
       "      <td>203</td>\n",
       "      <td>2586</td>\n",
       "      <td>1</td>\n",
       "      <td>31</td>\n",
       "      <td>141</td>\n",
       "      <td>1644</td>\n",
       "      <td>330</td>\n",
       "      <td>61</td>\n",
       "      <td>...</td>\n",
       "      <td>8</td>\n",
       "      <td>112</td>\n",
       "      <td>391</td>\n",
       "      <td>1572</td>\n",
       "      <td>10331</td>\n",
       "      <td>125</td>\n",
       "      <td>Yes</td>\n",
       "      <td>27275</td>\n",
       "      <td>1120</td>\n",
       "      <td>282</td>\n",
       "    </tr>\n",
       "    <tr>\n",
       "      <th>M064</th>\n",
       "      <td>4</td>\n",
       "      <td>99</td>\n",
       "      <td>191</td>\n",
       "      <td>1850</td>\n",
       "      <td>544</td>\n",
       "      <td>163</td>\n",
       "      <td>206</td>\n",
       "      <td>946</td>\n",
       "      <td>330</td>\n",
       "      <td>62</td>\n",
       "      <td>...</td>\n",
       "      <td>9</td>\n",
       "      <td>147</td>\n",
       "      <td>393</td>\n",
       "      <td>1572</td>\n",
       "      <td>8694</td>\n",
       "      <td>273</td>\n",
       "      <td>Yes</td>\n",
       "      <td>22200</td>\n",
       "      <td>798</td>\n",
       "      <td>292</td>\n",
       "    </tr>\n",
       "  </tbody>\n",
       "</table>\n",
       "<p>6 rows × 59 columns</p>\n",
       "</div>"
      ],
      "text/plain": [
       "      Additions_to_Regular_Salary  Additions_to_Salary__Projected_Expenses  \\\n",
       "M015                            3                                       97   \n",
       "M019                            4                                       69   \n",
       "M020                            3                                       75   \n",
       "M034                            3                                       83   \n",
       "M063                            3                                       91   \n",
       "M064                            4                                       99   \n",
       "\n",
       "      After_School_and_Student_Activities  \\\n",
       "M015                                  170   \n",
       "M019                                  195   \n",
       "M020                                  211   \n",
       "M034                                  303   \n",
       "M063                                  203   \n",
       "M064                                  191   \n",
       "\n",
       "      Ancillary_Support_Services_All_Funds  Assistant_Principals  \\\n",
       "M015                                  1936                     1   \n",
       "M019                                  1876                   465   \n",
       "M020                                  1607                   233   \n",
       "M034                                  1292                   350   \n",
       "M063                                  2586                     1   \n",
       "M064                                  1850                   544   \n",
       "\n",
       "      Attendance__Outreach_Services  Building_Maintenance  \\\n",
       "M015                            286                   267   \n",
       "M019                            147                   169   \n",
       "M020                            326                   149   \n",
       "M034                            286                   316   \n",
       "M063                             31                   141   \n",
       "M064                            163                   206   \n",
       "\n",
       "      Building_Services_All_Funds  Central_Administration_All_Funds  \\\n",
       "M015                         1393                               331   \n",
       "M019                         1270                               329   \n",
       "M020                         1204                               330   \n",
       "M034                         1486                               330   \n",
       "M063                         1644                               330   \n",
       "M064                          946                               330   \n",
       "\n",
       "      Central_Instructional_Support_All_Funds        ...          Supervisors  \\\n",
       "M015                                       63        ...                    9   \n",
       "M019                                       59        ...                   10   \n",
       "M020                                       63        ...                   51   \n",
       "M034                                       57        ...                    8   \n",
       "M063                                       61        ...                    8   \n",
       "M064                                       62        ...                    9   \n",
       "\n",
       "      Supplies_Materials_Equipment_Telephones  SystemWide_Costs  \\\n",
       "M015                                      126               394   \n",
       "M019                                      153               388   \n",
       "M020                                      128               393   \n",
       "M034                                      231               388   \n",
       "M063                                      112               391   \n",
       "M064                                      147               393   \n",
       "\n",
       "      SystemWide_Obligations  Teachers  Text_Books  Title_1  Total  \\\n",
       "M015                    1572      7684         101      Yes  22026   \n",
       "M019                    1572      7942         215      Yes  19724   \n",
       "M020                    1572      7850         156      Yes  19247   \n",
       "M034                    1572      7439          94      Yes  18967   \n",
       "M063                    1572     10331         125      Yes  27275   \n",
       "M064                    1572      8694         273      Yes  22200   \n",
       "\n",
       "      Transportation  _No_type_required  \n",
       "M015             511                283  \n",
       "M019             931                292  \n",
       "M020             295                283  \n",
       "M034             337                282  \n",
       "M063            1120                282  \n",
       "M064             798                292  \n",
       "\n",
       "[6 rows x 59 columns]"
      ]
     },
     "execution_count": 104,
     "metadata": {},
     "output_type": "execute_result"
    }
   ],
   "source": [
    "data_2008.head(6)"
   ]
  },
  {
   "cell_type": "markdown",
   "metadata": {},
   "source": [
    "The first thing we need to do is drop _No_type_required, which is a duplicated feature in the 2006-2008 datasets."
   ]
  },
  {
   "cell_type": "code",
   "execution_count": 105,
   "metadata": {
    "collapsed": false
   },
   "outputs": [
    {
     "name": "stdout",
     "output_type": "stream",
     "text": [
      "(1347, 59)\n",
      "(1366, 59)\n",
      "(1391, 59)\n",
      "(1437, 58)\n",
      "(1472, 58)\n",
      "(1497, 58)\n",
      "(1508, 58)\n"
     ]
    }
   ],
   "source": [
    "all_years_data = {2006: data_2006, 2007: data_2007, 2008: data_2008, 2009: data_2009, 2010: data_2010, 2011: data_2011, 2012: data_2012}\n",
    "for year in all_years_data:\n",
    "    print all_years_data[year].shape"
   ]
  },
  {
   "cell_type": "code",
   "execution_count": 106,
   "metadata": {
    "collapsed": true
   },
   "outputs": [],
   "source": [
    "for year in [2006, 2007, 2008]:\n",
    "    all_years_data[year] = all_years_data[year].drop('_No_type_required', axis=1)"
   ]
  },
  {
   "cell_type": "code",
   "execution_count": 125,
   "metadata": {
    "collapsed": false
   },
   "outputs": [
    {
     "name": "stdout",
     "output_type": "stream",
     "text": [
      "(1347, 58)\n",
      "(1366, 58)\n",
      "(1391, 58)\n",
      "(1437, 58)\n",
      "(1472, 58)\n",
      "(1497, 58)\n",
      "(1508, 58)\n"
     ]
    }
   ],
   "source": [
    "for year in all_years_data:\n",
    "    print all_years_data[year].shape"
   ]
  },
  {
   "cell_type": "markdown",
   "metadata": {},
   "source": [
    "Next we will fill in missing values with 0. This is justified under the assumption that if a row is missing from the expenditure report, it is because the school did not have any expenditures under that category."
   ]
  },
  {
   "cell_type": "code",
   "execution_count": 108,
   "metadata": {
    "collapsed": false
   },
   "outputs": [
    {
     "name": "stdout",
     "output_type": "stream",
     "text": [
      "\n",
      "Year =  2006\n",
      "Number observations 1347\n",
      "Number missing 0\n",
      "\n",
      "Year =  2007\n",
      "Number observations 1366\n",
      "Number missing 0\n",
      "\n",
      "Year =  2008\n",
      "Number observations 1391\n",
      "Number missing 0\n",
      "\n",
      "Year =  2009\n",
      "Number observations 1437\n",
      "Number missing 0\n",
      "\n",
      "Year =  2010\n",
      "Number observations 1472\n",
      "Number missing 0\n",
      "\n",
      "Year =  2011\n",
      "Number observations 1497\n",
      "Number missing 0\n",
      "\n",
      "Year =  2012\n",
      "Number observations 1508\n",
      "Number missing 0\n"
     ]
    }
   ],
   "source": [
    "for year in all_years_data:\n",
    "    all_years_data[year].fillna(0,inplace=True)\n",
    "    print '\\nYear = ', str(year)\n",
    "    print 'Number observations', len(all_years_data[year])\n",
    "    print 'Number missing', all_years_data[year].isnull().sum().sum()"
   ]
  },
  {
   "cell_type": "markdown",
   "metadata": {},
   "source": [
    "Great! Now let's check that all values are greater than 0:"
   ]
  },
  {
   "cell_type": "code",
   "execution_count": 109,
   "metadata": {
    "collapsed": false
   },
   "outputs": [
    {
     "name": "stdout",
     "output_type": "stream",
     "text": [
      "Number of non-zero minimum features in year 2006 = 0\n",
      "Number of non-zero minimum features in year 2007 = 0\n",
      "Number of non-zero minimum features in year 2008 = 0\n",
      "Number of non-zero minimum features in year 2009 = 0\n",
      "Number of non-zero minimum features in year 2010 = 0\n",
      "Number of non-zero minimum features in year 2011 = 0\n",
      "Number of non-zero minimum features in year 2012 = 0\n"
     ]
    }
   ],
   "source": [
    "for year in all_years_data:\n",
    "    print 'Number of non-zero minimum features in year {} = {}'.format(year, (all_years_data[year].min()<0).sum())"
   ]
  },
  {
   "cell_type": "markdown",
   "metadata": {},
   "source": [
    "Thus no features have negative values. Next, we drop features with 0 variance:"
   ]
  },
  {
   "cell_type": "code",
   "execution_count": 140,
   "metadata": {
    "collapsed": false
   },
   "outputs": [
    {
     "name": "stdout",
     "output_type": "stream",
     "text": [
      "(1347, 58)\n",
      "(1347, 52)\n",
      "(1366, 58)\n",
      "(1366, 52)\n",
      "(1391, 58)\n",
      "(1391, 53)\n",
      "(1437, 58)\n",
      "(1437, 52)\n",
      "(1472, 58)\n",
      "(1472, 53)\n",
      "(1497, 58)\n",
      "(1497, 53)\n",
      "(1508, 58)\n",
      "(1508, 51)\n"
     ]
    }
   ],
   "source": [
    "for year in all_years_data:\n",
    "    print 'Year {}: Number of 0 variance features originally = {}'.format(year, (all_years_data[year].std() == 0.0).sum())\n",
    "    mask = list((all_years_data[year].std() == 0.0).loc[(all_years_data[year].std() == 0.0)==True].index)\n",
    "    all_years_data[year].drop(mask, axis=1, inplace=True)\n",
    "    print 'Year {}: Number of 0 variance features after cleaning = {}'.format(year, (all_years_data[year].std() == 0.0).sum())"
   ]
  },
  {
   "cell_type": "markdown",
   "metadata": {},
   "source": [
    "Next, we convert Title_1 from a text feature to a dummie variable, with 'Yes' = 1 and 'No' = 0."
   ]
  },
  {
   "cell_type": "code",
   "execution_count": 80,
   "metadata": {
    "collapsed": false
   },
   "outputs": [
    {
     "name": "stdout",
     "output_type": "stream",
     "text": [
      "1    1069\n",
      "0     278\n",
      "dtype: int64\n",
      "1    1093\n",
      "0     273\n",
      "dtype: int64\n",
      "1    1116\n",
      "0     275\n",
      "dtype: int64\n",
      "1    1153\n",
      "0     284\n",
      "dtype: int64\n",
      "1    1362\n",
      "0     110\n",
      "dtype: int64\n",
      "1    1402\n",
      "0      95\n",
      "dtype: int64\n",
      "1    1210\n",
      "0     298\n",
      "dtype: int64\n"
     ]
    }
   ],
   "source": [
    "for year in all_years_data:\n",
    "    all_years_data[year]['Title_1'] = all_years_data[year]['Title_1'].map({'Yes':1, 'No':0})\n",
    "    print all_years_data[year]['Title_1'].value_counts()"
   ]
  },
  {
   "cell_type": "code",
   "execution_count": 47,
   "metadata": {
    "collapsed": false
   },
   "outputs": [],
   "source": [
    "# Scaling - do prior to PCA but not at this point.\n",
    "\n",
    "for year in all_years_data:\n",
    "    for feature in all_years_data[year].drop(['Title_1', 'District','School'], axis=1):\n",
    "        ##Center- subtract off mean:\n",
    "        all_years_data[year][feature] = all_years_data[year][feature] - all_years_data[year][feature].mean()\n",
    "        ##Scale- divide by max:\n",
    "        all_years_data[year][feature] = all_years_data[year][feature]/all_years_data[year][feature].max()"
   ]
  },
  {
   "cell_type": "markdown",
   "metadata": {},
   "source": [
    "Now we save the cleaned data in a new csv file."
   ]
  },
  {
   "cell_type": "code",
   "execution_count": 144,
   "metadata": {
    "collapsed": false
   },
   "outputs": [
    {
     "data": {
      "image/png": "[encoded data removed]",
      "text/plain": [
       "<matplotlib.figure.Figure at 0x1088ae710>"
      ]
     },
     "metadata": {},
     "output_type": "display_data"
    },
    {
     "data": {
      "image/png": "[encoded data removed]",
      "text/plain": [
       "<matplotlib.figure.Figure at 0x109008850>"
      ]
     },
     "metadata": {},
     "output_type": "display_data"
    },
    {
     "data": {
      "image/png": "[encoded data removed]",
      "text/plain": [
       "<matplotlib.figure.Figure at 0x10b9576d0>"
      ]
     },
     "metadata": {},
     "output_type": "display_data"
    },
    {
     "data": {
      "image/png": "[encoded data removed]",
      "text/plain": [
       "<matplotlib.figure.Figure at 0x106eafd50>"
      ]
     },
     "metadata": {},
     "output_type": "display_data"
    },
    {
     "data": {
      "image/png": "[encoded data removed]",
      "text/plain": [
       "<matplotlib.figure.Figure at 0x10a11d9d0>"
      ]
     },
     "metadata": {},
     "output_type": "display_data"
    },
    {
     "data": {
      "image/png": "[encoded data removed]",
      "text/plain": [
       "<matplotlib.figure.Figure at 0x1076f0850>"
      ]
     },
     "metadata": {},
     "output_type": "display_data"
    },
    {
     "data": {
      "image/png": "[encoded data removed]",
      "text/plain": [
       "<matplotlib.figure.Figure at 0x1088aebd0>"
      ]
     },
     "metadata": {},
     "output_type": "display_data"
    }
   ],
   "source": [
    "import matplotlib.pyplot as plt\n",
    "%matplotlib inline\n",
    "\n",
    "i=1\n",
    "for year in all_years_data:\n",
    "    plt.figure(figsize=(8, 16))\n",
    "    plt.subplot(7,1,i)\n",
    "    plt.hist(all_years_data[year].std(), bins=40)\n",
    "    i+=1"
   ]
  },
  {
   "cell_type": "code",
   "execution_count": 24,
   "metadata": {
    "collapsed": false
   },
   "outputs": [],
   "source": [
    "for year in all_years_data:\n",
    "    path = '../../data/clean_expenditure_data/clean_year_' + str(year) + '.csv'\n",
    "    all_years_data[year].to_csv(path)"
   ]
  }
 ],
 "metadata": {
  "kernelspec": {
   "display_name": "Python 2",
   "language": "python",
   "name": "python2"
  },
  "language_info": {
   "codemirror_mode": {
    "name": "ipython",
    "version": 2
   },
   "file_extension": ".py",
   "mimetype": "text/x-python",
   "name": "python",
   "nbconvert_exporter": "python",
   "pygments_lexer": "ipython2",
   "version": "2.7.10"
  }
 },
 "nbformat": 4,
 "nbformat_minor": 0
}
